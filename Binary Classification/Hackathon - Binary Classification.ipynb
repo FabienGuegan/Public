{
 "cells": [
  {
   "cell_type": "markdown",
   "metadata": {},
   "source": [
    "\n",
    "# Hackathon - Binary Classification "
   ]
  },
  {
   "cell_type": "markdown",
   "metadata": {},
   "source": [
    "In this hackathon, we will enter the mysterious world of algorithmic trading.\n",
    "\n",
    "Every day millions of crypto transactions occur across all blockchains (e.g., Bitcoin, Ethereum). These transactions are public, meaning that everyone can see them. And they can be analysed to understand the behaviour of each user.\n",
    "\n",
    "We will focus on one of these users and will aim to model their behaviour. The user in question is running a trading algorithm that generates transactions aimed at profiting from small discrepancies in prices. For example, if Bitcoin is being priced at 19,500 dollars in exchange A and 19,600 dollars in exchange B, the algorithm will trigger a transaction where Bitcoin is bought in exchange A and another where it is sold in exchange B for a profit of 100 dollars. These transactions happen at the same time and thus can be considered, for all intents and purposes, a single transaction.\n",
    "\n",
    "To model the behaviour of this user, data was collected from February 2022 to May 2022. Both instances where the algorithm decided to trade and instances where the algorithm decided NOT to trade were gathered. In total, ~338k of these instances (or events) were collected, from which ~23k resulted in a transaction being triggered. Thus, our goal is to predict whether a transaction will occur in each of the events provided, based on the underlying market conditions.\n",
    "\n",
    "To give you some intuition, you can expect that when the price between exchanges differs significantly, a transaction is likely to occur. On the other hand, if the discrepancy is not significant there’s less of an incentive to send transactions. Additionally, note that all transactions incur a fee. You can think about the balance in each exchange and reason that enough balance must be available for the transaction.\n",
    "\n",
    "In order to save you time, there is a document named requirements.txt in the hackathon directory which identifies some basic packages that you should install right away when setting up your virtual environment for the hackathon. Please bear in mind that they are not mandatory to use, and if you are more comfortable using other packages please be free to do it.\n",
    "\n",
    "The model you are about to develop is used in practice to anticipate trades of competing algorithms so that your algorithm can adjust its strategy accordingly. It’s a ruthless world out there. Good luck!\n",
    "Disclaimer: This exercise is only meant for educational purposes. Algorithmic trading is hard and there’s a very high likelihood you will lose your money.\n"
   ]
  },
  {
   "cell_type": "markdown",
   "metadata": {},
   "source": [
    "# Objective"
   ]
  },
  {
   "cell_type": "markdown",
   "metadata": {},
   "source": [
    "**The main goal is to predict whether a blockchain transaction is going to occur.**\n",
    "\n",
    "For each event in the test dataset, you’ll have to predict the probability of it triggering a transaction.\n",
    "\n",
    "Your submission file should be a CSV with two columns:\n",
    "- id: the id of the event\n",
    "- result: the probability of a transaction occurring\n",
    "\n",
    "When you submit your predictions, some validations will be run that will check the following:\n",
    "- Your file has the two columns with the right name\n",
    "- Your file has the right number of events\n",
    "- Your file has the same event ids as the test dataset. The submission is sorted by id, so the order doesn’t matter\n",
    "- Your predictions are probabilities and not just 0s and 1s\n"
   ]
  },
  {
   "cell_type": "markdown",
   "metadata": {},
   "source": [
    "# Data files\n",
    "\n",
    "You can find all these files in data/ under the hackathon directory.\n",
    "- train.csv - Training set (338k events)\n",
    "- test.csv - Test set (113k events)\n",
    "- sample_submission.csv - Submission file example"
   ]
  },
  {
   "cell_type": "markdown",
   "metadata": {},
   "source": [
    "## Data dictionary\n",
    "- id - a random id unique to an event\n",
    "- user_address - Source of the potential transaction. In the blockchain, this is the location of your coins. Abbreviated to the first 4 hexadecimal characters\n",
    "- user_balance_usd - USD balance available for trading in exchange A\n",
    "- user_balance_coin_a - Balance of coin A available for trading in exchange A\n",
    "- user_historical_transactions_10s - Number of transactions that occurred in the past 10 seconds in this address\n",
    "- user_historical_transactions_30s - Number of transactions that occurred in the past 30 seconds in this address\n",
    "- exchange_a_price - Price of coin A (in USD) in exchange A\n",
    "- exchange_b_price - Price of coin A (in USD) in exchange B\n",
    "- exchange_a_volatility - Measure of how much the price is changing in the past 30 seconds in exchange A\n",
    "- exchange_b_volatility - Measure of how much the price is changing in the past 30 seconds in exchange B\n",
    "- anonymous - not much is known about this variable, but it might be useful\n"
   ]
  },
  {
   "cell_type": "markdown",
   "metadata": {},
   "source": [
    "### Import the necessary libraries"
   ]
  },
  {
   "cell_type": "code",
   "execution_count": 1,
   "metadata": {},
   "outputs": [],
   "source": [
    "# Import basic libraries\n",
    "import pandas as pd\n",
    "import numpy as np\n",
    "import matplotlib.pyplot as plt \n",
    "\n",
    "# Sklearn libraries\n",
    "from sklearn.pipeline import Pipeline\n",
    "from sklearn.model_selection import train_test_split\n",
    "from sklearn.impute import SimpleImputer\n",
    "from sklearn.ensemble import RandomForestClassifier\n",
    "from sklearn.svm import SVC\n",
    "from sklearn.metrics import confusion_matrix,roc_auc_score,roc_curve,classification_report,auc\n",
    "from sklearn.base import BaseEstimator, TransformerMixin # to create classes\n",
    "from sklearn.preprocessing import RobustScaler\n",
    "from sklearn.linear_model import LogisticRegression\n",
    "from sklearn.compose import ColumnTransformer\n",
    "\n",
    "# Category encoders\n",
    "from category_encoders import OneHotEncoder, TargetEncoder"
   ]
  },
  {
   "cell_type": "markdown",
   "metadata": {},
   "source": [
    "#### Import the dataset"
   ]
  },
  {
   "cell_type": "code",
   "execution_count": 3,
   "metadata": {},
   "outputs": [],
   "source": [
    "data = pd.read_csv('data/train.csv').set_index(\"id\")"
   ]
  },
  {
   "cell_type": "code",
   "execution_count": 4,
   "metadata": {
    "scrolled": true
   },
   "outputs": [
    {
     "data": {
      "text/html": [
       "<div>\n",
       "<style scoped>\n",
       "    .dataframe tbody tr th:only-of-type {\n",
       "        vertical-align: middle;\n",
       "    }\n",
       "\n",
       "    .dataframe tbody tr th {\n",
       "        vertical-align: top;\n",
       "    }\n",
       "\n",
       "    .dataframe thead th {\n",
       "        text-align: right;\n",
       "    }\n",
       "</style>\n",
       "<table border=\"1\" class=\"dataframe\">\n",
       "  <thead>\n",
       "    <tr style=\"text-align: right;\">\n",
       "      <th></th>\n",
       "      <th>user_address</th>\n",
       "      <th>user_balance_usd</th>\n",
       "      <th>user_balance_coin_a</th>\n",
       "      <th>user_historical_transactions_10s</th>\n",
       "      <th>user_historical_transactions_30s</th>\n",
       "      <th>exchange_a_price</th>\n",
       "      <th>exchange_b_price</th>\n",
       "      <th>exchange_a_volatility</th>\n",
       "      <th>exchange_b_volatility</th>\n",
       "      <th>anonymous</th>\n",
       "      <th>result</th>\n",
       "    </tr>\n",
       "    <tr>\n",
       "      <th>id</th>\n",
       "      <th></th>\n",
       "      <th></th>\n",
       "      <th></th>\n",
       "      <th></th>\n",
       "      <th></th>\n",
       "      <th></th>\n",
       "      <th></th>\n",
       "      <th></th>\n",
       "      <th></th>\n",
       "      <th></th>\n",
       "      <th></th>\n",
       "    </tr>\n",
       "  </thead>\n",
       "  <tbody>\n",
       "    <tr>\n",
       "      <th>8</th>\n",
       "      <td>0x930B</td>\n",
       "      <td>84139.092267</td>\n",
       "      <td>44.193560</td>\n",
       "      <td>0</td>\n",
       "      <td>0</td>\n",
       "      <td>66.742521</td>\n",
       "      <td>66.8325</td>\n",
       "      <td>very high</td>\n",
       "      <td>0.000367</td>\n",
       "      <td>A113</td>\n",
       "      <td>0</td>\n",
       "    </tr>\n",
       "    <tr>\n",
       "      <th>12</th>\n",
       "      <td>0x5779</td>\n",
       "      <td>34609.449276</td>\n",
       "      <td>331.501171</td>\n",
       "      <td>0</td>\n",
       "      <td>0</td>\n",
       "      <td>41.429574</td>\n",
       "      <td>41.5401</td>\n",
       "      <td>low</td>\n",
       "      <td>0.000695</td>\n",
       "      <td>M958</td>\n",
       "      <td>0</td>\n",
       "    </tr>\n",
       "    <tr>\n",
       "      <th>28</th>\n",
       "      <td>0x5779</td>\n",
       "      <td>30598.783296</td>\n",
       "      <td>1581.902691</td>\n",
       "      <td>0</td>\n",
       "      <td>0</td>\n",
       "      <td>35.817631</td>\n",
       "      <td>35.8701</td>\n",
       "      <td>very low</td>\n",
       "      <td>0.000431</td>\n",
       "      <td>F255</td>\n",
       "      <td>0</td>\n",
       "    </tr>\n",
       "    <tr>\n",
       "      <th>50</th>\n",
       "      <td>0x5779</td>\n",
       "      <td>20992.680359</td>\n",
       "      <td>1260.406181</td>\n",
       "      <td>0</td>\n",
       "      <td>0</td>\n",
       "      <td>47.711827</td>\n",
       "      <td>47.8233</td>\n",
       "      <td>low</td>\n",
       "      <td>0.000456</td>\n",
       "      <td>F2332</td>\n",
       "      <td>0</td>\n",
       "    </tr>\n",
       "    <tr>\n",
       "      <th>56</th>\n",
       "      <td>0xD47A</td>\n",
       "      <td>120838.946555</td>\n",
       "      <td>180.090128</td>\n",
       "      <td>0</td>\n",
       "      <td>0</td>\n",
       "      <td>52.812842</td>\n",
       "      <td>52.6869</td>\n",
       "      <td>low</td>\n",
       "      <td>NaN</td>\n",
       "      <td>A198</td>\n",
       "      <td>0</td>\n",
       "    </tr>\n",
       "  </tbody>\n",
       "</table>\n",
       "</div>"
      ],
      "text/plain": [
       "   user_address  user_balance_usd  user_balance_coin_a  \\\n",
       "id                                                       \n",
       "8        0x930B      84139.092267            44.193560   \n",
       "12       0x5779      34609.449276           331.501171   \n",
       "28       0x5779      30598.783296          1581.902691   \n",
       "50       0x5779      20992.680359          1260.406181   \n",
       "56       0xD47A     120838.946555           180.090128   \n",
       "\n",
       "    user_historical_transactions_10s  user_historical_transactions_30s  \\\n",
       "id                                                                       \n",
       "8                                  0                                 0   \n",
       "12                                 0                                 0   \n",
       "28                                 0                                 0   \n",
       "50                                 0                                 0   \n",
       "56                                 0                                 0   \n",
       "\n",
       "    exchange_a_price  exchange_b_price exchange_a_volatility  \\\n",
       "id                                                             \n",
       "8          66.742521           66.8325             very high   \n",
       "12         41.429574           41.5401                   low   \n",
       "28         35.817631           35.8701              very low   \n",
       "50         47.711827           47.8233                   low   \n",
       "56         52.812842           52.6869                   low   \n",
       "\n",
       "    exchange_b_volatility anonymous  result  \n",
       "id                                           \n",
       "8                0.000367      A113       0  \n",
       "12               0.000695      M958       0  \n",
       "28               0.000431      F255       0  \n",
       "50               0.000456     F2332       0  \n",
       "56                    NaN      A198       0  "
      ]
     },
     "execution_count": 4,
     "metadata": {},
     "output_type": "execute_result"
    }
   ],
   "source": [
    "data.head()"
   ]
  },
  {
   "cell_type": "markdown",
   "metadata": {},
   "source": [
    "### EDA (Exploratory Dataset Analysis)"
   ]
  },
  {
   "cell_type": "markdown",
   "metadata": {},
   "source": [
    "Let's start by checking the data types we are dealing with."
   ]
  },
  {
   "cell_type": "code",
   "execution_count": 5,
   "metadata": {},
   "outputs": [
    {
     "data": {
      "text/plain": [
       "user_address                         object\n",
       "user_balance_usd                    float64\n",
       "user_balance_coin_a                 float64\n",
       "user_historical_transactions_10s      int64\n",
       "user_historical_transactions_30s      int64\n",
       "exchange_a_price                    float64\n",
       "exchange_b_price                    float64\n",
       "exchange_a_volatility                object\n",
       "exchange_b_volatility               float64\n",
       "anonymous                            object\n",
       "result                                int64\n",
       "dtype: object"
      ]
     },
     "execution_count": 5,
     "metadata": {},
     "output_type": "execute_result"
    }
   ],
   "source": [
    "data.dtypes"
   ]
  },
  {
   "cell_type": "markdown",
   "metadata": {},
   "source": [
    "Let's check the number of unique values in our dataset."
   ]
  },
  {
   "cell_type": "code",
   "execution_count": 6,
   "metadata": {},
   "outputs": [
    {
     "data": {
      "text/plain": [
       "user_address                             8\n",
       "user_balance_usd                    338487\n",
       "user_balance_coin_a                 338487\n",
       "user_historical_transactions_10s         4\n",
       "user_historical_transactions_30s         7\n",
       "exchange_a_price                     55178\n",
       "exchange_b_price                     32414\n",
       "exchange_a_volatility                    5\n",
       "exchange_b_volatility               329314\n",
       "anonymous                             4080\n",
       "result                                   2\n",
       "dtype: int64"
      ]
     },
     "execution_count": 6,
     "metadata": {},
     "output_type": "execute_result"
    }
   ],
   "source": [
    "data.nunique()"
   ]
  },
  {
   "cell_type": "markdown",
   "metadata": {},
   "source": [
    "Let's check if we have any missing values to worry about."
   ]
  },
  {
   "cell_type": "code",
   "execution_count": 7,
   "metadata": {},
   "outputs": [
    {
     "data": {
      "text/plain": [
       "user_address                            0\n",
       "user_balance_usd                        0\n",
       "user_balance_coin_a                     0\n",
       "user_historical_transactions_10s        0\n",
       "user_historical_transactions_30s        0\n",
       "exchange_a_price                    28642\n",
       "exchange_b_price                        0\n",
       "exchange_a_volatility               15210\n",
       "exchange_b_volatility                7922\n",
       "anonymous                               0\n",
       "result                                  0\n",
       "dtype: int64"
      ]
     },
     "execution_count": 7,
     "metadata": {},
     "output_type": "execute_result"
    }
   ],
   "source": [
    "data.isna().sum()"
   ]
  },
  {
   "cell_type": "markdown",
   "metadata": {},
   "source": [
    "There are a lot of missing values here. We will have to find a way to deal with them..."
   ]
  },
  {
   "cell_type": "markdown",
   "metadata": {},
   "source": [
    "What about correlation?"
   ]
  },
  {
   "cell_type": "code",
   "execution_count": 8,
   "metadata": {},
   "outputs": [
    {
     "data": {
      "text/html": [
       "<div>\n",
       "<style scoped>\n",
       "    .dataframe tbody tr th:only-of-type {\n",
       "        vertical-align: middle;\n",
       "    }\n",
       "\n",
       "    .dataframe tbody tr th {\n",
       "        vertical-align: top;\n",
       "    }\n",
       "\n",
       "    .dataframe thead th {\n",
       "        text-align: right;\n",
       "    }\n",
       "</style>\n",
       "<table border=\"1\" class=\"dataframe\">\n",
       "  <thead>\n",
       "    <tr style=\"text-align: right;\">\n",
       "      <th></th>\n",
       "      <th>user_balance_usd</th>\n",
       "      <th>user_balance_coin_a</th>\n",
       "      <th>user_historical_transactions_10s</th>\n",
       "      <th>user_historical_transactions_30s</th>\n",
       "      <th>exchange_a_price</th>\n",
       "      <th>exchange_b_price</th>\n",
       "      <th>exchange_b_volatility</th>\n",
       "      <th>result</th>\n",
       "    </tr>\n",
       "  </thead>\n",
       "  <tbody>\n",
       "    <tr>\n",
       "      <th>user_balance_usd</th>\n",
       "      <td>1.000000</td>\n",
       "      <td>-0.587663</td>\n",
       "      <td>NaN</td>\n",
       "      <td>NaN</td>\n",
       "      <td>NaN</td>\n",
       "      <td>NaN</td>\n",
       "      <td>NaN</td>\n",
       "      <td>NaN</td>\n",
       "    </tr>\n",
       "    <tr>\n",
       "      <th>user_balance_coin_a</th>\n",
       "      <td>-0.587663</td>\n",
       "      <td>1.000000</td>\n",
       "      <td>NaN</td>\n",
       "      <td>NaN</td>\n",
       "      <td>-0.314347</td>\n",
       "      <td>NaN</td>\n",
       "      <td>NaN</td>\n",
       "      <td>NaN</td>\n",
       "    </tr>\n",
       "    <tr>\n",
       "      <th>user_historical_transactions_10s</th>\n",
       "      <td>NaN</td>\n",
       "      <td>NaN</td>\n",
       "      <td>1.000000</td>\n",
       "      <td>0.526806</td>\n",
       "      <td>NaN</td>\n",
       "      <td>NaN</td>\n",
       "      <td>NaN</td>\n",
       "      <td>0.354665</td>\n",
       "    </tr>\n",
       "    <tr>\n",
       "      <th>user_historical_transactions_30s</th>\n",
       "      <td>NaN</td>\n",
       "      <td>NaN</td>\n",
       "      <td>0.526806</td>\n",
       "      <td>1.000000</td>\n",
       "      <td>NaN</td>\n",
       "      <td>NaN</td>\n",
       "      <td>NaN</td>\n",
       "      <td>0.421841</td>\n",
       "    </tr>\n",
       "    <tr>\n",
       "      <th>exchange_a_price</th>\n",
       "      <td>NaN</td>\n",
       "      <td>-0.314347</td>\n",
       "      <td>NaN</td>\n",
       "      <td>NaN</td>\n",
       "      <td>1.000000</td>\n",
       "      <td>0.371172</td>\n",
       "      <td>NaN</td>\n",
       "      <td>NaN</td>\n",
       "    </tr>\n",
       "    <tr>\n",
       "      <th>exchange_b_price</th>\n",
       "      <td>NaN</td>\n",
       "      <td>NaN</td>\n",
       "      <td>NaN</td>\n",
       "      <td>NaN</td>\n",
       "      <td>0.371172</td>\n",
       "      <td>1.000000</td>\n",
       "      <td>NaN</td>\n",
       "      <td>NaN</td>\n",
       "    </tr>\n",
       "    <tr>\n",
       "      <th>exchange_b_volatility</th>\n",
       "      <td>NaN</td>\n",
       "      <td>NaN</td>\n",
       "      <td>NaN</td>\n",
       "      <td>NaN</td>\n",
       "      <td>NaN</td>\n",
       "      <td>NaN</td>\n",
       "      <td>1.0</td>\n",
       "      <td>NaN</td>\n",
       "    </tr>\n",
       "    <tr>\n",
       "      <th>result</th>\n",
       "      <td>NaN</td>\n",
       "      <td>NaN</td>\n",
       "      <td>0.354665</td>\n",
       "      <td>0.421841</td>\n",
       "      <td>NaN</td>\n",
       "      <td>NaN</td>\n",
       "      <td>NaN</td>\n",
       "      <td>1.000000</td>\n",
       "    </tr>\n",
       "  </tbody>\n",
       "</table>\n",
       "</div>"
      ],
      "text/plain": [
       "                                  user_balance_usd  user_balance_coin_a  \\\n",
       "user_balance_usd                          1.000000            -0.587663   \n",
       "user_balance_coin_a                      -0.587663             1.000000   \n",
       "user_historical_transactions_10s               NaN                  NaN   \n",
       "user_historical_transactions_30s               NaN                  NaN   \n",
       "exchange_a_price                               NaN            -0.314347   \n",
       "exchange_b_price                               NaN                  NaN   \n",
       "exchange_b_volatility                          NaN                  NaN   \n",
       "result                                         NaN                  NaN   \n",
       "\n",
       "                                  user_historical_transactions_10s  \\\n",
       "user_balance_usd                                               NaN   \n",
       "user_balance_coin_a                                            NaN   \n",
       "user_historical_transactions_10s                          1.000000   \n",
       "user_historical_transactions_30s                          0.526806   \n",
       "exchange_a_price                                               NaN   \n",
       "exchange_b_price                                               NaN   \n",
       "exchange_b_volatility                                          NaN   \n",
       "result                                                    0.354665   \n",
       "\n",
       "                                  user_historical_transactions_30s  \\\n",
       "user_balance_usd                                               NaN   \n",
       "user_balance_coin_a                                            NaN   \n",
       "user_historical_transactions_10s                          0.526806   \n",
       "user_historical_transactions_30s                          1.000000   \n",
       "exchange_a_price                                               NaN   \n",
       "exchange_b_price                                               NaN   \n",
       "exchange_b_volatility                                          NaN   \n",
       "result                                                    0.421841   \n",
       "\n",
       "                                  exchange_a_price  exchange_b_price  \\\n",
       "user_balance_usd                               NaN               NaN   \n",
       "user_balance_coin_a                      -0.314347               NaN   \n",
       "user_historical_transactions_10s               NaN               NaN   \n",
       "user_historical_transactions_30s               NaN               NaN   \n",
       "exchange_a_price                          1.000000          0.371172   \n",
       "exchange_b_price                          0.371172          1.000000   \n",
       "exchange_b_volatility                          NaN               NaN   \n",
       "result                                         NaN               NaN   \n",
       "\n",
       "                                  exchange_b_volatility    result  \n",
       "user_balance_usd                                    NaN       NaN  \n",
       "user_balance_coin_a                                 NaN       NaN  \n",
       "user_historical_transactions_10s                    NaN  0.354665  \n",
       "user_historical_transactions_30s                    NaN  0.421841  \n",
       "exchange_a_price                                    NaN       NaN  \n",
       "exchange_b_price                                    NaN       NaN  \n",
       "exchange_b_volatility                               1.0       NaN  \n",
       "result                                              NaN  1.000000  "
      ]
     },
     "execution_count": 8,
     "metadata": {},
     "output_type": "execute_result"
    }
   ],
   "source": [
    "data.corr()[data.corr().abs() > 0.3]"
   ]
  },
  {
   "cell_type": "markdown",
   "metadata": {},
   "source": [
    "Let's also check if are dealing with an imbalanced dataset."
   ]
  },
  {
   "cell_type": "code",
   "execution_count": 9,
   "metadata": {},
   "outputs": [
    {
     "data": {
      "image/png": "[encoded data removed]",
      "text/plain": [
       "<Figure size 640x480 with 1 Axes>"
      ]
     },
     "metadata": {},
     "output_type": "display_data"
    }
   ],
   "source": [
    "# Checking if the dataset is imbalanced \n",
    "data[\"result\"].value_counts(normalize=True).plot(kind=\"bar\")\n",
    "plt.title('Target Distribution')\n",
    "plt.xlabel(\"Transaction occurred (No=0, Yes=1)\")\n",
    "plt.ylabel(\"Perc. of events\");"
   ]
  },
  {
   "cell_type": "markdown",
   "metadata": {},
   "source": [
    "### Fix Dataset Issues"
   ]
  },
  {
   "cell_type": "code",
   "execution_count": 10,
   "metadata": {},
   "outputs": [],
   "source": [
    "OUTLIER_PRICES_THRESH = 0.25\n",
    "\n",
    "class PriceColsFix(BaseEstimator, TransformerMixin):\n",
    "    def __init__(self):\n",
    "        pass\n",
    "    def fit(self, X=None, y=None, **fit_params):\n",
    "        self.exchange_b_price_median = X['exchange_b_price'].median()\n",
    "        return self\n",
    "    \n",
    "    def transform(self, data):\n",
    "        X = data.copy()\n",
    "        # handle missing values\n",
    "        X['exchange_a_price'].fillna(X['exchange_b_price'], inplace=True)\n",
    "        X['exchange_b_price'].fillna(X['exchange_a_price'], inplace=True)\n",
    "        \n",
    "        # handle outliers\n",
    "        mask = (X['exchange_a_price'] / X['exchange_b_price'] -1).abs() > OUTLIER_PRICES_THRESH\n",
    "        X['exchange_a_price'] = np.where(mask, np.nan, X['exchange_a_price'])\n",
    "        X['exchange_b_price'] = np.where(mask, np.nan, X['exchange_b_price'])\n",
    "        \n",
    "        # replace all remaining missing value with the median\n",
    "        X['exchange_a_price'].fillna(self.exchange_b_price_median, inplace=True)\n",
    "        X['exchange_b_price'].fillna(self.exchange_b_price_median, inplace=True)\n",
    "        return X "
   ]
  },
  {
   "cell_type": "code",
   "execution_count": 11,
   "metadata": {},
   "outputs": [],
   "source": [
    "class UserAddressColFix(BaseEstimator, TransformerMixin):\n",
    "    def __init__(self):\n",
    "        pass\n",
    "    def fit(self, X=None, y=None, **fit_params):\n",
    "        return self\n",
    "    \n",
    "    def transform(self, data):\n",
    "        X = data.copy()\n",
    "        # remove capitalization\n",
    "        X[\"user_address\"] = X[\"user_address\"].str.lower()\n",
    "        return X "
   ]
  },
  {
   "cell_type": "markdown",
   "metadata": {},
   "source": [
    "### Feature Engineering"
   ]
  },
  {
   "cell_type": "code",
   "execution_count": 12,
   "metadata": {},
   "outputs": [],
   "source": [
    "class Profit(BaseEstimator, TransformerMixin):\n",
    "    def __init__(self):\n",
    "        pass\n",
    "    def fit(self, X=None, y=None, **fit_params):\n",
    "        return self\n",
    "    def transform(self, data):\n",
    "        X = data.copy()\n",
    "        X[\"profit\"] = (X['exchange_a_price'] / X['exchange_b_price'] -1).abs()\n",
    "        return X "
   ]
  },
  {
   "cell_type": "code",
   "execution_count": 13,
   "metadata": {},
   "outputs": [],
   "source": [
    "class BalanceUSDPerc(BaseEstimator, TransformerMixin):\n",
    "    def __init__(self):\n",
    "        pass\n",
    "    def fit(self, X=None, y=None, **fit_params):\n",
    "        return self\n",
    "    def transform(self, data):\n",
    "        X = data.copy()\n",
    "        balance_coin_usd = X[\"user_balance_coin_a\"] * X['exchange_b_price']\n",
    "        X[\"balance_usd_perc\"] = (X['user_balance_usd']) / (X['user_balance_usd'] + balance_coin_usd)\n",
    "        return X "
   ]
  },
  {
   "cell_type": "code",
   "execution_count": 14,
   "metadata": {},
   "outputs": [],
   "source": [
    "class ExchangeHighestPrice(BaseEstimator, TransformerMixin):\n",
    "    def __init__(self):\n",
    "        pass\n",
    "    def fit(self, X=None, y=None, **fit_params):\n",
    "        return self\n",
    "    def transform(self, data):\n",
    "        X = data.copy()\n",
    "        X[\"exchange_highest_price\"] = (data[\"exchange_a_price\"] > data[\"exchange_b_price\"]).map({True:1, False:0})\n",
    "        return X "
   ]
  },
  {
   "cell_type": "markdown",
   "metadata": {},
   "source": [
    "### Creating the Model "
   ]
  },
  {
   "cell_type": "markdown",
   "metadata": {},
   "source": [
    "Preparing the dataset for the split"
   ]
  },
  {
   "cell_type": "code",
   "execution_count": 15,
   "metadata": {},
   "outputs": [],
   "source": [
    "X = data.drop(columns=['result'])\n",
    "y = data['result']"
   ]
  },
  {
   "cell_type": "markdown",
   "metadata": {},
   "source": [
    "Splitting the dataset between test and train"
   ]
  },
  {
   "cell_type": "code",
   "execution_count": 16,
   "metadata": {},
   "outputs": [],
   "source": [
    "X_train, X_test, y_train, y_test = train_test_split(X,\n",
    "                                                    y,\n",
    "                                                    test_size=0.25)"
   ]
  },
  {
   "cell_type": "markdown",
   "metadata": {},
   "source": [
    "Creating the pipeline"
   ]
  },
  {
   "cell_type": "code",
   "execution_count": 17,
   "metadata": {},
   "outputs": [],
   "source": [
    "num_cols = [\n",
    "    'profit', # new column\n",
    "    'balance_usd_perc', # new column\n",
    "    'exchange_highest_price', # new column\n",
    "    'exchange_a_price',\n",
    "    'exchange_b_price',\n",
    "    'exchange_b_volatility',\n",
    "    'user_balance_usd',\n",
    "    'user_balance_coin_a',\n",
    "    'user_historical_transactions_10s',\n",
    "    'user_historical_transactions_30s',\n",
    "]\n",
    "cat_onehot_cols = [\n",
    "    \"exchange_a_volatility\",\n",
    "    \"user_address\"\n",
    "]\n",
    "cat_target_cols = [\n",
    "    \"anonymous\"\n",
    "]\n",
    "\n",
    "num_transformer = Pipeline(steps=[\n",
    "    ('fillna', SimpleImputer(strategy='median')),\n",
    "    ('scaler', RobustScaler())\n",
    "])\n",
    "cat_onehot_transformer = Pipeline(steps=[\n",
    "    (\"cat_encoder1\", OneHotEncoder())\n",
    "])\n",
    "\n",
    "cat_target_transformer = Pipeline(steps=[\n",
    "    (\"cat_encoder2\", TargetEncoder())\n",
    "])\n",
    "\n",
    "preprocessor = ColumnTransformer(\n",
    "    transformers=[\n",
    "    ('num', num_transformer, num_cols),\n",
    "    ('cat1', cat_onehot_transformer, cat_onehot_cols),\n",
    "    ('cat2', cat_target_transformer, cat_target_cols),\n",
    "])"
   ]
  },
  {
   "cell_type": "code",
   "execution_count": 18,
   "metadata": {},
   "outputs": [],
   "source": [
    "pipeline = Pipeline([\n",
    "    (\"fix_price_columns\", PriceColsFix()),\n",
    "    (\"fix_address_column\", UserAddressColFix()),\n",
    "    (\"feat_engineering_1\", Profit()),\n",
    "    (\"feat_engineering_2\", BalanceUSDPerc()),\n",
    "    (\"feat_engineering_3\", ExchangeHighestPrice()),\n",
    "    (\"preprocessor\", preprocessor),\n",
    "    ('model', RandomForestClassifier(random_state=42))\n",
    "])"
   ]
  },
  {
   "cell_type": "markdown",
   "metadata": {},
   "source": [
    "Train the model and generate the predictions"
   ]
  },
  {
   "cell_type": "code",
   "execution_count": 19,
   "metadata": {},
   "outputs": [
    {
     "name": "stderr",
     "output_type": "stream",
     "text": [
      "/Users/fabienguegan/.virtualenvs/hckt01/lib/python3.8/site-packages/category_encoders/utils.py:21: FutureWarning: is_categorical is deprecated and will be removed in a future version.  Use is_categorical_dtype instead\n",
      "  elif pd.api.types.is_categorical(cols):\n",
      "/Users/fabienguegan/.virtualenvs/hckt01/lib/python3.8/site-packages/category_encoders/utils.py:21: FutureWarning: is_categorical is deprecated and will be removed in a future version.  Use is_categorical_dtype instead\n",
      "  elif pd.api.types.is_categorical(cols):\n"
     ]
    },
    {
     "data": {
      "text/html": [
       "<style>#sk-container-id-1 {color: black;background-color: white;}#sk-container-id-1 pre{padding: 0;}#sk-container-id-1 div.sk-toggleable {background-color: white;}#sk-container-id-1 label.sk-toggleable__label {cursor: pointer;display: block;width: 100%;margin-bottom: 0;padding: 0.3em;box-sizing: border-box;text-align: center;}#sk-container-id-1 label.sk-toggleable__label-arrow:before {content: \"▸\";float: left;margin-right: 0.25em;color: #696969;}#sk-container-id-1 label.sk-toggleable__label-arrow:hover:before {color: black;}#sk-container-id-1 div.sk-estimator:hover label.sk-toggleable__label-arrow:before {color: black;}#sk-container-id-1 div.sk-toggleable__content {max-height: 0;max-width: 0;overflow: hidden;text-align: left;background-color: #f0f8ff;}#sk-container-id-1 div.sk-toggleable__content pre {margin: 0.2em;color: black;border-radius: 0.25em;background-color: #f0f8ff;}#sk-container-id-1 input.sk-toggleable__control:checked~div.sk-toggleable__content {max-height: 200px;max-width: 100%;overflow: auto;}#sk-container-id-1 input.sk-toggleable__control:checked~label.sk-toggleable__label-arrow:before {content: \"▾\";}#sk-container-id-1 div.sk-estimator input.sk-toggleable__control:checked~label.sk-toggleable__label {background-color: #d4ebff;}#sk-container-id-1 div.sk-label input.sk-toggleable__control:checked~label.sk-toggleable__label {background-color: #d4ebff;}#sk-container-id-1 input.sk-hidden--visually {border: 0;clip: rect(1px 1px 1px 1px);clip: rect(1px, 1px, 1px, 1px);height: 1px;margin: -1px;overflow: hidden;padding: 0;position: absolute;width: 1px;}#sk-container-id-1 div.sk-estimator {font-family: monospace;background-color: #f0f8ff;border: 1px dotted black;border-radius: 0.25em;box-sizing: border-box;margin-bottom: 0.5em;}#sk-container-id-1 div.sk-estimator:hover {background-color: #d4ebff;}#sk-container-id-1 div.sk-parallel-item::after {content: \"\";width: 100%;border-bottom: 1px solid gray;flex-grow: 1;}#sk-container-id-1 div.sk-label:hover label.sk-toggleable__label {background-color: #d4ebff;}#sk-container-id-1 div.sk-serial::before {content: \"\";position: absolute;border-left: 1px solid gray;box-sizing: border-box;top: 0;bottom: 0;left: 50%;z-index: 0;}#sk-container-id-1 div.sk-serial {display: flex;flex-direction: column;align-items: center;background-color: white;padding-right: 0.2em;padding-left: 0.2em;position: relative;}#sk-container-id-1 div.sk-item {position: relative;z-index: 1;}#sk-container-id-1 div.sk-parallel {display: flex;align-items: stretch;justify-content: center;background-color: white;position: relative;}#sk-container-id-1 div.sk-item::before, #sk-container-id-1 div.sk-parallel-item::before {content: \"\";position: absolute;border-left: 1px solid gray;box-sizing: border-box;top: 0;bottom: 0;left: 50%;z-index: -1;}#sk-container-id-1 div.sk-parallel-item {display: flex;flex-direction: column;z-index: 1;position: relative;background-color: white;}#sk-container-id-1 div.sk-parallel-item:first-child::after {align-self: flex-end;width: 50%;}#sk-container-id-1 div.sk-parallel-item:last-child::after {align-self: flex-start;width: 50%;}#sk-container-id-1 div.sk-parallel-item:only-child::after {width: 0;}#sk-container-id-1 div.sk-dashed-wrapped {border: 1px dashed gray;margin: 0 0.4em 0.5em 0.4em;box-sizing: border-box;padding-bottom: 0.4em;background-color: white;}#sk-container-id-1 div.sk-label label {font-family: monospace;font-weight: bold;display: inline-block;line-height: 1.2em;}#sk-container-id-1 div.sk-label-container {text-align: center;}#sk-container-id-1 div.sk-container {/* jupyter's `normalize.less` sets `[hidden] { display: none; }` but bootstrap.min.css set `[hidden] { display: none !important; }` so we also need the `!important` here to be able to override the default hidden behavior on the sphinx rendered scikit-learn.org. See: https://github.com/scikit-learn/scikit-learn/issues/21755 */display: inline-block !important;position: relative;}#sk-container-id-1 div.sk-text-repr-fallback {display: none;}</style><div id=\"sk-container-id-1\" class=\"sk-top-container\"><div class=\"sk-text-repr-fallback\"><pre>Pipeline(steps=[(&#x27;fix_price_columns&#x27;, PriceColsFix()),\n",
       "                (&#x27;fix_address_column&#x27;, UserAddressColFix()),\n",
       "                (&#x27;feat_engineering_1&#x27;, Profit()),\n",
       "                (&#x27;feat_engineering_2&#x27;, BalanceUSDPerc()),\n",
       "                (&#x27;feat_engineering_3&#x27;, ExchangeHighestPrice()),\n",
       "                (&#x27;preprocessor&#x27;,\n",
       "                 ColumnTransformer(transformers=[(&#x27;num&#x27;,\n",
       "                                                  Pipeline(steps=[(&#x27;fillna&#x27;,\n",
       "                                                                   SimpleImputer(strategy=&#x27;median&#x27;)),\n",
       "                                                                  (&#x27;scaler&#x27;,\n",
       "                                                                   RobustScale...\n",
       "                                                   &#x27;exchange_b_volatility&#x27;,\n",
       "                                                   &#x27;user_balance_usd&#x27;,\n",
       "                                                   &#x27;user_balance_coin_a&#x27;,\n",
       "                                                   &#x27;user_historical_transactions_10s&#x27;,\n",
       "                                                   &#x27;user_historical_transactions_30s&#x27;]),\n",
       "                                                 (&#x27;cat1&#x27;,\n",
       "                                                  Pipeline(steps=[(&#x27;cat_encoder1&#x27;,\n",
       "                                                                   OneHotEncoder())]),\n",
       "                                                  [&#x27;exchange_a_volatility&#x27;,\n",
       "                                                   &#x27;user_address&#x27;]),\n",
       "                                                 (&#x27;cat2&#x27;,\n",
       "                                                  Pipeline(steps=[(&#x27;cat_encoder2&#x27;,\n",
       "                                                                   TargetEncoder())]),\n",
       "                                                  [&#x27;anonymous&#x27;])])),\n",
       "                (&#x27;model&#x27;, RandomForestClassifier(random_state=42))])</pre><b>In a Jupyter environment, please rerun this cell to show the HTML representation or trust the notebook. <br />On GitHub, the HTML representation is unable to render, please try loading this page with nbviewer.org.</b></div><div class=\"sk-container\" hidden><div class=\"sk-item sk-dashed-wrapped\"><div class=\"sk-label-container\"><div class=\"sk-label sk-toggleable\"><input class=\"sk-toggleable__control sk-hidden--visually\" id=\"sk-estimator-id-1\" type=\"checkbox\" ><label for=\"sk-estimator-id-1\" class=\"sk-toggleable__label sk-toggleable__label-arrow\">Pipeline</label><div class=\"sk-toggleable__content\"><pre>Pipeline(steps=[(&#x27;fix_price_columns&#x27;, PriceColsFix()),\n",
       "                (&#x27;fix_address_column&#x27;, UserAddressColFix()),\n",
       "                (&#x27;feat_engineering_1&#x27;, Profit()),\n",
       "                (&#x27;feat_engineering_2&#x27;, BalanceUSDPerc()),\n",
       "                (&#x27;feat_engineering_3&#x27;, ExchangeHighestPrice()),\n",
       "                (&#x27;preprocessor&#x27;,\n",
       "                 ColumnTransformer(transformers=[(&#x27;num&#x27;,\n",
       "                                                  Pipeline(steps=[(&#x27;fillna&#x27;,\n",
       "                                                                   SimpleImputer(strategy=&#x27;median&#x27;)),\n",
       "                                                                  (&#x27;scaler&#x27;,\n",
       "                                                                   RobustScale...\n",
       "                                                   &#x27;exchange_b_volatility&#x27;,\n",
       "                                                   &#x27;user_balance_usd&#x27;,\n",
       "                                                   &#x27;user_balance_coin_a&#x27;,\n",
       "                                                   &#x27;user_historical_transactions_10s&#x27;,\n",
       "                                                   &#x27;user_historical_transactions_30s&#x27;]),\n",
       "                                                 (&#x27;cat1&#x27;,\n",
       "                                                  Pipeline(steps=[(&#x27;cat_encoder1&#x27;,\n",
       "                                                                   OneHotEncoder())]),\n",
       "                                                  [&#x27;exchange_a_volatility&#x27;,\n",
       "                                                   &#x27;user_address&#x27;]),\n",
       "                                                 (&#x27;cat2&#x27;,\n",
       "                                                  Pipeline(steps=[(&#x27;cat_encoder2&#x27;,\n",
       "                                                                   TargetEncoder())]),\n",
       "                                                  [&#x27;anonymous&#x27;])])),\n",
       "                (&#x27;model&#x27;, RandomForestClassifier(random_state=42))])</pre></div></div></div><div class=\"sk-serial\"><div class=\"sk-item\"><div class=\"sk-estimator sk-toggleable\"><input class=\"sk-toggleable__control sk-hidden--visually\" id=\"sk-estimator-id-2\" type=\"checkbox\" ><label for=\"sk-estimator-id-2\" class=\"sk-toggleable__label sk-toggleable__label-arrow\">PriceColsFix</label><div class=\"sk-toggleable__content\"><pre>PriceColsFix()</pre></div></div></div><div class=\"sk-item\"><div class=\"sk-estimator sk-toggleable\"><input class=\"sk-toggleable__control sk-hidden--visually\" id=\"sk-estimator-id-3\" type=\"checkbox\" ><label for=\"sk-estimator-id-3\" class=\"sk-toggleable__label sk-toggleable__label-arrow\">UserAddressColFix</label><div class=\"sk-toggleable__content\"><pre>UserAddressColFix()</pre></div></div></div><div class=\"sk-item\"><div class=\"sk-estimator sk-toggleable\"><input class=\"sk-toggleable__control sk-hidden--visually\" id=\"sk-estimator-id-4\" type=\"checkbox\" ><label for=\"sk-estimator-id-4\" class=\"sk-toggleable__label sk-toggleable__label-arrow\">Profit</label><div class=\"sk-toggleable__content\"><pre>Profit()</pre></div></div></div><div class=\"sk-item\"><div class=\"sk-estimator sk-toggleable\"><input class=\"sk-toggleable__control sk-hidden--visually\" id=\"sk-estimator-id-5\" type=\"checkbox\" ><label for=\"sk-estimator-id-5\" class=\"sk-toggleable__label sk-toggleable__label-arrow\">BalanceUSDPerc</label><div class=\"sk-toggleable__content\"><pre>BalanceUSDPerc()</pre></div></div></div><div class=\"sk-item\"><div class=\"sk-estimator sk-toggleable\"><input class=\"sk-toggleable__control sk-hidden--visually\" id=\"sk-estimator-id-6\" type=\"checkbox\" ><label for=\"sk-estimator-id-6\" class=\"sk-toggleable__label sk-toggleable__label-arrow\">ExchangeHighestPrice</label><div class=\"sk-toggleable__content\"><pre>ExchangeHighestPrice()</pre></div></div></div><div class=\"sk-item sk-dashed-wrapped\"><div class=\"sk-label-container\"><div class=\"sk-label sk-toggleable\"><input class=\"sk-toggleable__control sk-hidden--visually\" id=\"sk-estimator-id-7\" type=\"checkbox\" ><label for=\"sk-estimator-id-7\" class=\"sk-toggleable__label sk-toggleable__label-arrow\">preprocessor: ColumnTransformer</label><div class=\"sk-toggleable__content\"><pre>ColumnTransformer(transformers=[(&#x27;num&#x27;,\n",
       "                                 Pipeline(steps=[(&#x27;fillna&#x27;,\n",
       "                                                  SimpleImputer(strategy=&#x27;median&#x27;)),\n",
       "                                                 (&#x27;scaler&#x27;, RobustScaler())]),\n",
       "                                 [&#x27;profit&#x27;, &#x27;balance_usd_perc&#x27;,\n",
       "                                  &#x27;exchange_highest_price&#x27;, &#x27;exchange_a_price&#x27;,\n",
       "                                  &#x27;exchange_b_price&#x27;, &#x27;exchange_b_volatility&#x27;,\n",
       "                                  &#x27;user_balance_usd&#x27;, &#x27;user_balance_coin_a&#x27;,\n",
       "                                  &#x27;user_historical_transactions_10s&#x27;,\n",
       "                                  &#x27;user_historical_transactions_30s&#x27;]),\n",
       "                                (&#x27;cat1&#x27;,\n",
       "                                 Pipeline(steps=[(&#x27;cat_encoder1&#x27;,\n",
       "                                                  OneHotEncoder())]),\n",
       "                                 [&#x27;exchange_a_volatility&#x27;, &#x27;user_address&#x27;]),\n",
       "                                (&#x27;cat2&#x27;,\n",
       "                                 Pipeline(steps=[(&#x27;cat_encoder2&#x27;,\n",
       "                                                  TargetEncoder())]),\n",
       "                                 [&#x27;anonymous&#x27;])])</pre></div></div></div><div class=\"sk-parallel\"><div class=\"sk-parallel-item\"><div class=\"sk-item\"><div class=\"sk-label-container\"><div class=\"sk-label sk-toggleable\"><input class=\"sk-toggleable__control sk-hidden--visually\" id=\"sk-estimator-id-8\" type=\"checkbox\" ><label for=\"sk-estimator-id-8\" class=\"sk-toggleable__label sk-toggleable__label-arrow\">num</label><div class=\"sk-toggleable__content\"><pre>[&#x27;profit&#x27;, &#x27;balance_usd_perc&#x27;, &#x27;exchange_highest_price&#x27;, &#x27;exchange_a_price&#x27;, &#x27;exchange_b_price&#x27;, &#x27;exchange_b_volatility&#x27;, &#x27;user_balance_usd&#x27;, &#x27;user_balance_coin_a&#x27;, &#x27;user_historical_transactions_10s&#x27;, &#x27;user_historical_transactions_30s&#x27;]</pre></div></div></div><div class=\"sk-serial\"><div class=\"sk-item\"><div class=\"sk-serial\"><div class=\"sk-item\"><div class=\"sk-estimator sk-toggleable\"><input class=\"sk-toggleable__control sk-hidden--visually\" id=\"sk-estimator-id-9\" type=\"checkbox\" ><label for=\"sk-estimator-id-9\" class=\"sk-toggleable__label sk-toggleable__label-arrow\">SimpleImputer</label><div class=\"sk-toggleable__content\"><pre>SimpleImputer(strategy=&#x27;median&#x27;)</pre></div></div></div><div class=\"sk-item\"><div class=\"sk-estimator sk-toggleable\"><input class=\"sk-toggleable__control sk-hidden--visually\" id=\"sk-estimator-id-10\" type=\"checkbox\" ><label for=\"sk-estimator-id-10\" class=\"sk-toggleable__label sk-toggleable__label-arrow\">RobustScaler</label><div class=\"sk-toggleable__content\"><pre>RobustScaler()</pre></div></div></div></div></div></div></div></div><div class=\"sk-parallel-item\"><div class=\"sk-item\"><div class=\"sk-label-container\"><div class=\"sk-label sk-toggleable\"><input class=\"sk-toggleable__control sk-hidden--visually\" id=\"sk-estimator-id-11\" type=\"checkbox\" ><label for=\"sk-estimator-id-11\" class=\"sk-toggleable__label sk-toggleable__label-arrow\">cat1</label><div class=\"sk-toggleable__content\"><pre>[&#x27;exchange_a_volatility&#x27;, &#x27;user_address&#x27;]</pre></div></div></div><div class=\"sk-serial\"><div class=\"sk-item\"><div class=\"sk-serial\"><div class=\"sk-item\"><div class=\"sk-estimator sk-toggleable\"><input class=\"sk-toggleable__control sk-hidden--visually\" id=\"sk-estimator-id-12\" type=\"checkbox\" ><label for=\"sk-estimator-id-12\" class=\"sk-toggleable__label sk-toggleable__label-arrow\">OneHotEncoder</label><div class=\"sk-toggleable__content\"><pre>OneHotEncoder()</pre></div></div></div></div></div></div></div></div><div class=\"sk-parallel-item\"><div class=\"sk-item\"><div class=\"sk-label-container\"><div class=\"sk-label sk-toggleable\"><input class=\"sk-toggleable__control sk-hidden--visually\" id=\"sk-estimator-id-13\" type=\"checkbox\" ><label for=\"sk-estimator-id-13\" class=\"sk-toggleable__label sk-toggleable__label-arrow\">cat2</label><div class=\"sk-toggleable__content\"><pre>[&#x27;anonymous&#x27;]</pre></div></div></div><div class=\"sk-serial\"><div class=\"sk-item\"><div class=\"sk-serial\"><div class=\"sk-item\"><div class=\"sk-estimator sk-toggleable\"><input class=\"sk-toggleable__control sk-hidden--visually\" id=\"sk-estimator-id-14\" type=\"checkbox\" ><label for=\"sk-estimator-id-14\" class=\"sk-toggleable__label sk-toggleable__label-arrow\">TargetEncoder</label><div class=\"sk-toggleable__content\"><pre>TargetEncoder()</pre></div></div></div></div></div></div></div></div></div></div><div class=\"sk-item\"><div class=\"sk-estimator sk-toggleable\"><input class=\"sk-toggleable__control sk-hidden--visually\" id=\"sk-estimator-id-15\" type=\"checkbox\" ><label for=\"sk-estimator-id-15\" class=\"sk-toggleable__label sk-toggleable__label-arrow\">RandomForestClassifier</label><div class=\"sk-toggleable__content\"><pre>RandomForestClassifier(random_state=42)</pre></div></div></div></div></div></div></div>"
      ],
      "text/plain": [
       "Pipeline(steps=[('fix_price_columns', PriceColsFix()),\n",
       "                ('fix_address_column', UserAddressColFix()),\n",
       "                ('feat_engineering_1', Profit()),\n",
       "                ('feat_engineering_2', BalanceUSDPerc()),\n",
       "                ('feat_engineering_3', ExchangeHighestPrice()),\n",
       "                ('preprocessor',\n",
       "                 ColumnTransformer(transformers=[('num',\n",
       "                                                  Pipeline(steps=[('fillna',\n",
       "                                                                   SimpleImputer(strategy='median')),\n",
       "                                                                  ('scaler',\n",
       "                                                                   RobustScale...\n",
       "                                                   'exchange_b_volatility',\n",
       "                                                   'user_balance_usd',\n",
       "                                                   'user_balance_coin_a',\n",
       "                                                   'user_historical_transactions_10s',\n",
       "                                                   'user_historical_transactions_30s']),\n",
       "                                                 ('cat1',\n",
       "                                                  Pipeline(steps=[('cat_encoder1',\n",
       "                                                                   OneHotEncoder())]),\n",
       "                                                  ['exchange_a_volatility',\n",
       "                                                   'user_address']),\n",
       "                                                 ('cat2',\n",
       "                                                  Pipeline(steps=[('cat_encoder2',\n",
       "                                                                   TargetEncoder())]),\n",
       "                                                  ['anonymous'])])),\n",
       "                ('model', RandomForestClassifier(random_state=42))])"
      ]
     },
     "execution_count": 19,
     "metadata": {},
     "output_type": "execute_result"
    }
   ],
   "source": [
    "pipeline.fit(X_train, y_train)"
   ]
  },
  {
   "cell_type": "code",
   "execution_count": 20,
   "metadata": {},
   "outputs": [],
   "source": [
    "y_scores = pipeline.predict_proba(X_test)[:,1]"
   ]
  },
  {
   "cell_type": "code",
   "execution_count": 21,
   "metadata": {
    "scrolled": false
   },
   "outputs": [
    {
     "name": "stdout",
     "output_type": "stream",
     "text": [
      "Score: 0.879\n"
     ]
    },
    {
     "data": {
      "image/png": "[encoded data removed]",
      "text/plain": [
       "<Figure size 640x480 with 1 Axes>"
      ]
     },
     "metadata": {},
     "output_type": "display_data"
    }
   ],
   "source": [
    "fpr, tpr, threshold = roc_curve(y_test, y_scores)\n",
    "roc_auc = auc(fpr, tpr)\n",
    "\n",
    "plt.title('Receiver Operating Characteristic')\n",
    "plt.plot(fpr, tpr, 'b', label = 'AUC = %0.2f' % roc_auc)\n",
    "plt.legend(loc = 'lower right')\n",
    "plt.plot([0, 1], [0, 1],'r--')\n",
    "plt.xlim([0, 1])\n",
    "plt.ylim([0, 1])\n",
    "plt.ylabel('True Positive Rate')\n",
    "plt.xlabel('False Positive Rate')\n",
    "print(\"Score: \"+ str(round(roc_auc,3)))\n",
    "plt.show()"
   ]
  },
  {
   "cell_type": "markdown",
   "metadata": {},
   "source": [
    "#### Check final score using the test set"
   ]
  },
  {
   "cell_type": "markdown",
   "metadata": {},
   "source": [
    "Load the test set"
   ]
  },
  {
   "cell_type": "code",
   "execution_count": 22,
   "metadata": {},
   "outputs": [],
   "source": [
    "test = pd.read_csv('data/test.csv').set_index(\"id\")"
   ]
  },
  {
   "cell_type": "markdown",
   "metadata": {},
   "source": [
    "Use the pipeline to get predictions (very simple!)"
   ]
  },
  {
   "cell_type": "code",
   "execution_count": 23,
   "metadata": {
    "scrolled": true
   },
   "outputs": [],
   "source": [
    "y_scores_final = pipeline.predict_proba(test)[:,1]"
   ]
  },
  {
   "cell_type": "markdown",
   "metadata": {},
   "source": [
    "Prepare the submissions file"
   ]
  },
  {
   "cell_type": "code",
   "execution_count": 24,
   "metadata": {},
   "outputs": [],
   "source": [
    "submission = pd.Series(y_scores_final,index=test.index, name='id')\n",
    "submission.to_csv(\"submission.csv\")"
   ]
  }
 ],
 "metadata": {
  "hide_input": false,
  "kernelspec": {
   "display_name": "Python 3 (ipykernel)",
   "language": "python",
   "name": "python3"
  },
  "language_info": {
   "codemirror_mode": {
    "name": "ipython",
    "version": 3
   },
   "file_extension": ".py",
   "mimetype": "text/x-python",
   "name": "python",
   "nbconvert_exporter": "python",
   "pygments_lexer": "ipython3",
   "version": "3.8.15"
  },
  "nbTranslate": {
   "displayLangs": [
    "*"
   ],
   "hotkey": "alt-t",
   "langInMainMenu": true,
   "sourceLang": "en",
   "targetLang": "fr",
   "useGoogleTranslate": true
  },
  "toc": {
   "base_numbering": 1,
   "nav_menu": {},
   "number_sections": true,
   "sideBar": true,
   "skip_h1_title": false,
   "title_cell": "Table of Contents",
   "title_sidebar": "Contents",
   "toc_cell": false,
   "toc_position": {},
   "toc_section_display": true,
   "toc_window_display": false
  },
  "varInspector": {
   "cols": {
    "lenName": 16,
    "lenType": 16,
    "lenVar": 40
   },
   "kernels_config": {
    "python": {
     "delete_cmd_postfix": "",
     "delete_cmd_prefix": "del ",
     "library": "var_list.py",
     "varRefreshCmd": "print(var_dic_list())"
    },
    "r": {
     "delete_cmd_postfix": ") ",
     "delete_cmd_prefix": "rm(",
     "library": "var_list.r",
     "varRefreshCmd": "cat(var_dic_list()) "
    }
   },
   "types_to_exclude": [
    "module",
    "function",
    "builtin_function_or_method",
    "instance",
    "_Feature"
   ],
   "window_display": false
  }
 },
 "nbformat": 4,
 "nbformat_minor": 4
}
