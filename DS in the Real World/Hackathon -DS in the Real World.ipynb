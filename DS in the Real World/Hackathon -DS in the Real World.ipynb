{
 "cells": [
  {
   "cell_type": "code",
   "execution_count": 159,
   "id": "fa2785b4",
   "metadata": {},
   "outputs": [],
   "source": [
    "import os\n",
    "import pandas as pd\n",
    "import numpy as np\n",
    "import io\n",
    "import json\n",
    "import pickle\n",
    "import requests\n",
    "import joblib\n",
    "import math\n",
    "from sklearn.model_selection import train_test_split\n",
    "from sklearn.pipeline import make_pipeline, Pipeline\n",
    "from sklearn.preprocessing import OneHotEncoder, StandardScaler, LabelEncoder, FunctionTransformer\n",
    "from sklearn.metrics import precision_score, recall_score, precision_recall_curve, f1_score\n",
    "from sklearn.compose import ColumnTransformer\n",
    "from sklearn.impute import SimpleImputer\n",
    "from sklearn.ensemble import RandomForestClassifier\n",
    "from sklearn.model_selection import cross_val_score\n",
    "from lightgbm import LGBMClassifier\n",
    "from sklearn.pipeline import Pipeline\n",
    "import matplotlib.pyplot as plt"
   ]
  },
  {
   "cell_type": "markdown",
   "id": "f5dcbbc4",
   "metadata": {},
   "source": [
    "# Hazel and Bazel Hospital"
   ]
  },
  {
   "cell_type": "markdown",
   "id": "06203801",
   "metadata": {},
   "source": [
    "The Hazel and Bazel Hospital, in Los Angeles, California, has contacted us regarding suspicion of malpractice and is currently under investigation by the Fair Medical Practices Bureau. Situations have come to light where patients have been wrongfully medically discharged, resulting in severe health consequences for the patient. Our main objective is to identify patients who are likely to return to the hospital in less than 30 days, for which the hospital might be liable for wrongful discharge before due time.  \n",
    "\n",
    "The reasons for this are still unknown, and investigation into this matter is required. It is unknown if this is a demographic-specific issue or specific to any of the medical specialities/services. Additionally, they want us to create and deploy a REST API endpoint for patient discharge verification. This will be integrated directly into the hospital’s system to be triggered every time the medical dismissal information for a patient is filled in in their system. You will be responsible for setting this system up and running it for a year.\t\n",
    "\n",
    "They ask you to provide a service that they can call, with two endpoints. \n",
    "Predict: to which they will send requests for new predictions\n",
    "Update: to which they will send the actual information if a person should or should not have been discharged\n",
    "\n",
    "The hospital staff will use those endpoints to do several rounds of tests and pick the first 10 teams based on a mix of F1-score and the fairness requirement. Those teams will be called on to present their service and model.  \n"
   ]
  },
  {
   "cell_type": "markdown",
   "id": "cf44f294",
   "metadata": {},
   "source": [
    "# Objective\n",
    "\n",
    "In this hackathon, you will tackle a binary classification problem setup in a real-world scenario. As described in the previous sections, this problem will consist of predicting, based on a number of features, if a person should or should not be discharged. Some of these features are considered sensitive - such as race and gender - and will need special attention to avoid discriminating against minorities.\n",
    "\n",
    "You will be given an initial dataset with a number of examples. You should use this dataset to build a model, taking into account the different requirements the client posed, in particular:\n",
    "\n",
    "You want to maximize the percentage of correct predictions\n",
    "Your model should not yield differences among gender or race as measured by the difference in the above metric by more than 0.15\n",
    "\n",
    "The dataset contains the following fields. The field that you must use as outcome is:\n",
    "readmitted\n",
    "\n",
    "\n",
    "With this in mind, you should set up a server that serves this model, with two endpoints, described below:\n"
   ]
  },
  {
   "cell_type": "markdown",
   "id": "679dbfd0",
   "metadata": {},
   "source": [
    "# Import the data"
   ]
  },
  {
   "cell_type": "code",
   "execution_count": 2,
   "id": "c8498d92",
   "metadata": {},
   "outputs": [
    {
     "data": {
      "text/plain": [
       "'/Users/fabienguegan/projects/batch6-workspace/S06 - DS in the Real World/HCKT06 - DS in the Real World'"
      ]
     },
     "execution_count": 2,
     "metadata": {},
     "output_type": "execute_result"
    }
   ],
   "source": [
    "pwd"
   ]
  },
  {
   "cell_type": "code",
   "execution_count": 897,
   "id": "b0d3bdb2",
   "metadata": {},
   "outputs": [
    {
     "data": {
      "text/html": [
       "<div>\n",
       "<style scoped>\n",
       "    .dataframe tbody tr th:only-of-type {\n",
       "        vertical-align: middle;\n",
       "    }\n",
       "\n",
       "    .dataframe tbody tr th {\n",
       "        vertical-align: top;\n",
       "    }\n",
       "\n",
       "    .dataframe thead th {\n",
       "        text-align: right;\n",
       "    }\n",
       "</style>\n",
       "<table border=\"1\" class=\"dataframe\">\n",
       "  <thead>\n",
       "    <tr style=\"text-align: right;\">\n",
       "      <th></th>\n",
       "      <th>admission_id</th>\n",
       "      <th>patient_id</th>\n",
       "      <th>race</th>\n",
       "      <th>gender</th>\n",
       "      <th>age</th>\n",
       "      <th>weight</th>\n",
       "      <th>admission_type_code</th>\n",
       "      <th>discharge_disposition_code</th>\n",
       "      <th>admission_source_code</th>\n",
       "      <th>time_in_hospital</th>\n",
       "      <th>...</th>\n",
       "      <th>blood_type</th>\n",
       "      <th>hemoglobin_level</th>\n",
       "      <th>blood_transfusion</th>\n",
       "      <th>max_glu_serum</th>\n",
       "      <th>A1Cresult</th>\n",
       "      <th>diuretics</th>\n",
       "      <th>insulin</th>\n",
       "      <th>change</th>\n",
       "      <th>diabetesMed</th>\n",
       "      <th>readmitted</th>\n",
       "    </tr>\n",
       "  </thead>\n",
       "  <tbody>\n",
       "    <tr>\n",
       "      <th>62479</th>\n",
       "      <td>62479</td>\n",
       "      <td>46826964</td>\n",
       "      <td>White</td>\n",
       "      <td>Male</td>\n",
       "      <td>[80-90)</td>\n",
       "      <td>?</td>\n",
       "      <td>3.0</td>\n",
       "      <td>1.0</td>\n",
       "      <td>1</td>\n",
       "      <td>2</td>\n",
       "      <td>...</td>\n",
       "      <td>A-</td>\n",
       "      <td>16.0</td>\n",
       "      <td>False</td>\n",
       "      <td>NONE</td>\n",
       "      <td>None</td>\n",
       "      <td>No</td>\n",
       "      <td>No</td>\n",
       "      <td>No</td>\n",
       "      <td>No</td>\n",
       "      <td>No</td>\n",
       "    </tr>\n",
       "    <tr>\n",
       "      <th>4543</th>\n",
       "      <td>4543</td>\n",
       "      <td>57647952</td>\n",
       "      <td>Caucasian</td>\n",
       "      <td>Male</td>\n",
       "      <td>[40-50)</td>\n",
       "      <td>?</td>\n",
       "      <td>6.0</td>\n",
       "      <td>25.0</td>\n",
       "      <td>17</td>\n",
       "      <td>4</td>\n",
       "      <td>...</td>\n",
       "      <td>O+</td>\n",
       "      <td>14.2</td>\n",
       "      <td>False</td>\n",
       "      <td>&gt;200</td>\n",
       "      <td>None</td>\n",
       "      <td>No</td>\n",
       "      <td>Yes</td>\n",
       "      <td>No</td>\n",
       "      <td>Yes</td>\n",
       "      <td>No</td>\n",
       "    </tr>\n",
       "    <tr>\n",
       "      <th>61307</th>\n",
       "      <td>61307</td>\n",
       "      <td>73513008</td>\n",
       "      <td>European</td>\n",
       "      <td>Female</td>\n",
       "      <td>[30-40)</td>\n",
       "      <td>?</td>\n",
       "      <td>2.0</td>\n",
       "      <td>1.0</td>\n",
       "      <td>7</td>\n",
       "      <td>2</td>\n",
       "      <td>...</td>\n",
       "      <td>O+</td>\n",
       "      <td>12.7</td>\n",
       "      <td>False</td>\n",
       "      <td>None</td>\n",
       "      <td>None</td>\n",
       "      <td>No</td>\n",
       "      <td>Yes</td>\n",
       "      <td>No</td>\n",
       "      <td>Yes</td>\n",
       "      <td>No</td>\n",
       "    </tr>\n",
       "    <tr>\n",
       "      <th>43014</th>\n",
       "      <td>43014</td>\n",
       "      <td>204181182</td>\n",
       "      <td>Caucasian</td>\n",
       "      <td>Female</td>\n",
       "      <td>[40-50)</td>\n",
       "      <td>?</td>\n",
       "      <td>1.0</td>\n",
       "      <td>6.0</td>\n",
       "      <td>7</td>\n",
       "      <td>3</td>\n",
       "      <td>...</td>\n",
       "      <td>O+</td>\n",
       "      <td>12.3</td>\n",
       "      <td>False</td>\n",
       "      <td>None</td>\n",
       "      <td>None</td>\n",
       "      <td>No</td>\n",
       "      <td>Yes</td>\n",
       "      <td>Ch</td>\n",
       "      <td>Yes</td>\n",
       "      <td>Yes</td>\n",
       "    </tr>\n",
       "    <tr>\n",
       "      <th>64051</th>\n",
       "      <td>64051</td>\n",
       "      <td>47947464</td>\n",
       "      <td>AfricanAmerican</td>\n",
       "      <td>Male</td>\n",
       "      <td>[70-80)</td>\n",
       "      <td>?</td>\n",
       "      <td>1.0</td>\n",
       "      <td>11.0</td>\n",
       "      <td>5</td>\n",
       "      <td>6</td>\n",
       "      <td>...</td>\n",
       "      <td>O+</td>\n",
       "      <td>13.5</td>\n",
       "      <td>False</td>\n",
       "      <td>None</td>\n",
       "      <td>None</td>\n",
       "      <td>No</td>\n",
       "      <td>Yes</td>\n",
       "      <td>Ch</td>\n",
       "      <td>Yes</td>\n",
       "      <td>No</td>\n",
       "    </tr>\n",
       "    <tr>\n",
       "      <th>...</th>\n",
       "      <td>...</td>\n",
       "      <td>...</td>\n",
       "      <td>...</td>\n",
       "      <td>...</td>\n",
       "      <td>...</td>\n",
       "      <td>...</td>\n",
       "      <td>...</td>\n",
       "      <td>...</td>\n",
       "      <td>...</td>\n",
       "      <td>...</td>\n",
       "      <td>...</td>\n",
       "      <td>...</td>\n",
       "      <td>...</td>\n",
       "      <td>...</td>\n",
       "      <td>...</td>\n",
       "      <td>...</td>\n",
       "      <td>...</td>\n",
       "      <td>...</td>\n",
       "      <td>...</td>\n",
       "      <td>...</td>\n",
       "      <td>...</td>\n",
       "    </tr>\n",
       "    <tr>\n",
       "      <th>55397</th>\n",
       "      <td>55397</td>\n",
       "      <td>125169948</td>\n",
       "      <td>Caucasian</td>\n",
       "      <td>Male</td>\n",
       "      <td>[50-60)</td>\n",
       "      <td>?</td>\n",
       "      <td>5.0</td>\n",
       "      <td>1.0</td>\n",
       "      <td>1</td>\n",
       "      <td>3</td>\n",
       "      <td>...</td>\n",
       "      <td>AB+</td>\n",
       "      <td>15.2</td>\n",
       "      <td>False</td>\n",
       "      <td>NONE</td>\n",
       "      <td>None</td>\n",
       "      <td>No</td>\n",
       "      <td>No</td>\n",
       "      <td>No</td>\n",
       "      <td>No</td>\n",
       "      <td>No</td>\n",
       "    </tr>\n",
       "    <tr>\n",
       "      <th>74481</th>\n",
       "      <td>74481</td>\n",
       "      <td>46468368</td>\n",
       "      <td>Black</td>\n",
       "      <td>Female</td>\n",
       "      <td>[60-70)</td>\n",
       "      <td>?</td>\n",
       "      <td>1.0</td>\n",
       "      <td>6.0</td>\n",
       "      <td>7</td>\n",
       "      <td>7</td>\n",
       "      <td>...</td>\n",
       "      <td>A-</td>\n",
       "      <td>13.3</td>\n",
       "      <td>False</td>\n",
       "      <td>None</td>\n",
       "      <td>None</td>\n",
       "      <td>No</td>\n",
       "      <td>Yes</td>\n",
       "      <td>Ch</td>\n",
       "      <td>Yes</td>\n",
       "      <td>No</td>\n",
       "    </tr>\n",
       "    <tr>\n",
       "      <th>46182</th>\n",
       "      <td>46182</td>\n",
       "      <td>196276608</td>\n",
       "      <td>AfricanAmerican</td>\n",
       "      <td>Female</td>\n",
       "      <td>[60-70)</td>\n",
       "      <td>?</td>\n",
       "      <td>2.0</td>\n",
       "      <td>6.0</td>\n",
       "      <td>4</td>\n",
       "      <td>8</td>\n",
       "      <td>...</td>\n",
       "      <td>O+</td>\n",
       "      <td>13.7</td>\n",
       "      <td>True</td>\n",
       "      <td>None</td>\n",
       "      <td>None</td>\n",
       "      <td>No</td>\n",
       "      <td>Yes</td>\n",
       "      <td>No</td>\n",
       "      <td>Yes</td>\n",
       "      <td>No</td>\n",
       "    </tr>\n",
       "    <tr>\n",
       "      <th>77592</th>\n",
       "      <td>77592</td>\n",
       "      <td>149913090</td>\n",
       "      <td>Caucasian</td>\n",
       "      <td>Male</td>\n",
       "      <td>[50-60)</td>\n",
       "      <td>?</td>\n",
       "      <td>1.0</td>\n",
       "      <td>6.0</td>\n",
       "      <td>7</td>\n",
       "      <td>3</td>\n",
       "      <td>...</td>\n",
       "      <td>B+</td>\n",
       "      <td>14.5</td>\n",
       "      <td>False</td>\n",
       "      <td>None</td>\n",
       "      <td>None</td>\n",
       "      <td>No</td>\n",
       "      <td>No</td>\n",
       "      <td>No</td>\n",
       "      <td>No</td>\n",
       "      <td>No</td>\n",
       "    </tr>\n",
       "    <tr>\n",
       "      <th>70737</th>\n",
       "      <td>70737</td>\n",
       "      <td>119240118</td>\n",
       "      <td>Caucasian</td>\n",
       "      <td>Female</td>\n",
       "      <td>[60-70)</td>\n",
       "      <td>?</td>\n",
       "      <td>1.0</td>\n",
       "      <td>6.0</td>\n",
       "      <td>7</td>\n",
       "      <td>7</td>\n",
       "      <td>...</td>\n",
       "      <td>A-</td>\n",
       "      <td>13.8</td>\n",
       "      <td>False</td>\n",
       "      <td>None</td>\n",
       "      <td>None</td>\n",
       "      <td>No</td>\n",
       "      <td>Yes</td>\n",
       "      <td>No</td>\n",
       "      <td>Yes</td>\n",
       "      <td>No</td>\n",
       "    </tr>\n",
       "  </tbody>\n",
       "</table>\n",
       "<p>10000 rows × 34 columns</p>\n",
       "</div>"
      ],
      "text/plain": [
       "       admission_id  patient_id             race  gender      age weight  \\\n",
       "62479         62479    46826964            White    Male  [80-90)      ?   \n",
       "4543           4543    57647952        Caucasian    Male  [40-50)      ?   \n",
       "61307         61307    73513008         European  Female  [30-40)      ?   \n",
       "43014         43014   204181182        Caucasian  Female  [40-50)      ?   \n",
       "64051         64051    47947464  AfricanAmerican    Male  [70-80)      ?   \n",
       "...             ...         ...              ...     ...      ...    ...   \n",
       "55397         55397   125169948        Caucasian    Male  [50-60)      ?   \n",
       "74481         74481    46468368            Black  Female  [60-70)      ?   \n",
       "46182         46182   196276608  AfricanAmerican  Female  [60-70)      ?   \n",
       "77592         77592   149913090        Caucasian    Male  [50-60)      ?   \n",
       "70737         70737   119240118        Caucasian  Female  [60-70)      ?   \n",
       "\n",
       "       admission_type_code  discharge_disposition_code  admission_source_code  \\\n",
       "62479                  3.0                         1.0                      1   \n",
       "4543                   6.0                        25.0                     17   \n",
       "61307                  2.0                         1.0                      7   \n",
       "43014                  1.0                         6.0                      7   \n",
       "64051                  1.0                        11.0                      5   \n",
       "...                    ...                         ...                    ...   \n",
       "55397                  5.0                         1.0                      1   \n",
       "74481                  1.0                         6.0                      7   \n",
       "46182                  2.0                         6.0                      4   \n",
       "77592                  1.0                         6.0                      7   \n",
       "70737                  1.0                         6.0                      7   \n",
       "\n",
       "       time_in_hospital  ... blood_type hemoglobin_level  blood_transfusion  \\\n",
       "62479                 2  ...         A-             16.0              False   \n",
       "4543                  4  ...         O+             14.2              False   \n",
       "61307                 2  ...         O+             12.7              False   \n",
       "43014                 3  ...         O+             12.3              False   \n",
       "64051                 6  ...         O+             13.5              False   \n",
       "...                 ...  ...        ...              ...                ...   \n",
       "55397                 3  ...        AB+             15.2              False   \n",
       "74481                 7  ...         A-             13.3              False   \n",
       "46182                 8  ...         O+             13.7               True   \n",
       "77592                 3  ...         B+             14.5              False   \n",
       "70737                 7  ...         A-             13.8              False   \n",
       "\n",
       "      max_glu_serum  A1Cresult  diuretics  insulin  change  diabetesMed  \\\n",
       "62479          NONE       None         No       No      No           No   \n",
       "4543           >200       None         No      Yes      No          Yes   \n",
       "61307          None       None         No      Yes      No          Yes   \n",
       "43014          None       None         No      Yes      Ch          Yes   \n",
       "64051          None       None         No      Yes      Ch          Yes   \n",
       "...             ...        ...        ...      ...     ...          ...   \n",
       "55397          NONE       None         No       No      No           No   \n",
       "74481          None       None         No      Yes      Ch          Yes   \n",
       "46182          None       None         No      Yes      No          Yes   \n",
       "77592          None       None         No       No      No           No   \n",
       "70737          None       None         No      Yes      No          Yes   \n",
       "\n",
       "       readmitted  \n",
       "62479          No  \n",
       "4543           No  \n",
       "61307          No  \n",
       "43014         Yes  \n",
       "64051          No  \n",
       "...           ...  \n",
       "55397          No  \n",
       "74481          No  \n",
       "46182          No  \n",
       "77592          No  \n",
       "70737          No  \n",
       "\n",
       "[10000 rows x 34 columns]"
      ]
     },
     "execution_count": 897,
     "metadata": {},
     "output_type": "execute_result"
    }
   ],
   "source": [
    "df = pd.read_csv(os.path.join(\"data\", \"train.csv\"), index_col=0)\n",
    "df"
   ]
  },
  {
   "cell_type": "code",
   "execution_count": 565,
   "id": "6a7af1c6",
   "metadata": {},
   "outputs": [
    {
     "data": {
      "text/plain": [
       "Index(['admission_id', 'patient_id', 'race', 'gender', 'age', 'weight',\n",
       "       'admission_type_code', 'discharge_disposition_code',\n",
       "       'admission_source_code', 'time_in_hospital', 'payer_code',\n",
       "       'medical_specialty', 'has_prosthesis', 'complete_vaccination_status',\n",
       "       'num_lab_procedures', 'num_procedures', 'num_medications',\n",
       "       'number_outpatient', 'number_emergency', 'number_inpatient', 'diag_1',\n",
       "       'diag_2', 'diag_3', 'number_diagnoses', 'blood_type',\n",
       "       'hemoglobin_level', 'blood_transfusion', 'max_glu_serum', 'A1Cresult',\n",
       "       'diuretics', 'insulin', 'change', 'diabetesMed', 'readmitted'],\n",
       "      dtype='object')"
      ]
     },
     "execution_count": 565,
     "metadata": {},
     "output_type": "execute_result"
    }
   ],
   "source": [
    "df.columns"
   ]
  },
  {
   "cell_type": "code",
   "execution_count": 566,
   "id": "51ce69c4",
   "metadata": {},
   "outputs": [],
   "source": [
    "# 'admission_id', 'patient_id' --> not releveant columns \n",
    "\n",
    "\n",
    "# other columns\n",
    "# Weight has a lot of ? (9000 out of 10000) --> drop the column\n",
    "\n",
    "# gender --> 1 Unknown/Invalid we caan drop it\n",
    "\n",
    "# age --> 276 null  (we can maybe drop it)\n",
    "\n",
    "# race --> 209 \"?\" and need to group (white, WHITE, caucasian and European) , \n",
    "# (AfricanAmerican, Afro American, African American, AfricanAmerican, AFRICANAMERICAN)\n",
    "# (Latino, Hispanic)\n",
    "\n",
    "\n",
    "## admission_type_code, discharge_disposition_code, admission_source_code --> should be category!!!\n",
    "\n",
    "# admission_type_code --> 144 null, code 5 =458, code 6=503, code 8= 19 (this code should be all together with null)\n",
    "# discharge_disposition_code --> 70 null, code 18= 360, code 25= 106, code 26 = 0 (all together)\n",
    "# admission_source_code --> 0 null, code 17 = 665, code 20 = 25, code 21 = 0 (all together)\n",
    "\n",
    "# complete_vaccination_status --> 0 null but 46 \"None\"\n",
    "# num_lab_procedures --> 200 null\n",
    "# num_medications --> 319 null\n",
    "\n",
    "# diag_1 --> a lot of categories for onehot encoding\n",
    "# diag_2 --> a lot of categories for onehot encoding (and 158 null)\n",
    "# diag_3 --> a lot of categories for onehot encoding\n",
    "\n",
    "# max_glu_serum --> need to change NONE or None and NORM or Norm\n"
   ]
  },
  {
   "cell_type": "markdown",
   "id": "31902b85",
   "metadata": {},
   "source": [
    "# Data analysis and EDA"
   ]
  },
  {
   "cell_type": "markdown",
   "id": "e7b97205",
   "metadata": {},
   "source": [
    "## unbalanced target "
   ]
  },
  {
   "cell_type": "code",
   "execution_count": 896,
   "id": "b207c95a",
   "metadata": {
    "scrolled": true
   },
   "outputs": [
    {
     "data": {
      "image/png": "[encoded data removed]",
      "text/plain": [
       "<Figure size 640x480 with 1 Axes>"
      ]
     },
     "metadata": {},
     "output_type": "display_data"
    }
   ],
   "source": [
    "plt.hist(df[\"readmitted\"])\n",
    "plt.xlabel(\"Readmitted\")\n",
    "plt.ylabel(\"Count\")\n",
    "plt.show()"
   ]
  },
  {
   "cell_type": "markdown",
   "id": "f95048cb",
   "metadata": {},
   "source": [
    "## Modify the features "
   ]
  },
  {
   "cell_type": "code",
   "execution_count": 833,
   "id": "3a6161f4",
   "metadata": {},
   "outputs": [],
   "source": [
    "df = df.copy()"
   ]
  },
  {
   "cell_type": "code",
   "execution_count": 834,
   "id": "ed4256b5",
   "metadata": {},
   "outputs": [],
   "source": [
    "# 'admission_id', 'patient_id' --> not releveant columns \n",
    "\n",
    "\n",
    "# other columns\n",
    "# Weight has a lot of ? (9000 out of 10000) --> drop the column\n",
    "\n",
    "# gender --> 1 Unknown/Invalid we caan drop it\n",
    "\n",
    "# age --> 276 null  (we can maybe drop it)\n",
    "\n",
    "# race --> 209 \"?\" and need to group (white, WHITE, caucasian and European) , \n",
    "# (AfricanAmerican, Afro American, African American, AfricanAmerican, AFRICANAMERICAN)\n",
    "# (Latino, Hispanic)\n",
    "\n",
    "\n",
    "## admission_type_code, discharge_disposition_code, admission_source_code --> should be category!!!\n",
    "\n",
    "# admission_type_code --> 144 null, code 5 =458, code 6=503, code 8= 19 (this code should be all together with null)\n",
    "# discharge_disposition_code --> 70 null, code 18= 360, code 25= 106, code 26 = 0 (all together)\n",
    "# admission_source_code --> 0 null, code 17 = 665, code 20 = 25, code 21 = 0 (all together)\n",
    "\n",
    "# complete_vaccination_status --> 0 null but 46 \"None\"\n",
    "# num_lab_procedures --> 200 null\n",
    "# num_medications --> 319 null\n",
    "\n",
    "# diag_1 --> a lot of categories for onehot encoding\n",
    "# diag_2 --> a lot of categories for onehot encoding (and 158 null)\n",
    "# diag_3 --> a lot of categories for onehot encoding\n",
    "\n",
    "# max_glu_serum --> need to change NONE or None and NORM or Norm"
   ]
  },
  {
   "cell_type": "markdown",
   "id": "5cfe51de",
   "metadata": {},
   "source": [
    "### drop 'admission_id', 'patient_id' columns"
   ]
  },
  {
   "cell_type": "code",
   "execution_count": 835,
   "id": "9038bc24",
   "metadata": {},
   "outputs": [],
   "source": [
    "# First we need to drop the duplicate from patient_id"
   ]
  },
  {
   "cell_type": "code",
   "execution_count": 836,
   "id": "f339e915",
   "metadata": {},
   "outputs": [
    {
     "data": {
      "text/plain": [
       "(9446, 10000)"
      ]
     },
     "execution_count": 836,
     "metadata": {},
     "output_type": "execute_result"
    }
   ],
   "source": [
    "df.patient_id.nunique(), len(df)"
   ]
  },
  {
   "cell_type": "code",
   "execution_count": 837,
   "id": "3d2cce86",
   "metadata": {},
   "outputs": [],
   "source": [
    "# Create a boolean mask indicating which rows have duplicated patient_id values\n",
    "mask = df.duplicated(subset='patient_id', keep=False)"
   ]
  },
  {
   "cell_type": "code",
   "execution_count": 838,
   "id": "4ab98bb2",
   "metadata": {},
   "outputs": [],
   "source": [
    "# Use boolean indexing to select the rows to keep\n",
    "df = df[~mask]"
   ]
  },
  {
   "cell_type": "code",
   "execution_count": 839,
   "id": "c85d6ff4",
   "metadata": {},
   "outputs": [],
   "source": [
    "# Now we can remove the 'admission_id', 'patient_id' columns because they don't provide any information to the model"
   ]
  },
  {
   "cell_type": "code",
   "execution_count": 840,
   "id": "cb23edbb",
   "metadata": {},
   "outputs": [],
   "source": [
    "df = df.drop(columns=['admission_id', 'patient_id'])"
   ]
  },
  {
   "cell_type": "markdown",
   "id": "8774ab7a",
   "metadata": {},
   "source": [
    "## Drop the weight column"
   ]
  },
  {
   "cell_type": "code",
   "execution_count": 841,
   "id": "3d97f5cd",
   "metadata": {},
   "outputs": [],
   "source": [
    "df = df.drop(columns=[\"weight\"])"
   ]
  },
  {
   "cell_type": "code",
   "execution_count": 905,
   "id": "7c30e67b",
   "metadata": {},
   "outputs": [
    {
     "data": {
      "text/plain": [
       "?            9534\n",
       "[75-100)      112\n",
       "[50-75)        82\n",
       "[100-125)      59\n",
       "[25-50)        12\n",
       "[125-150)       9\n",
       "[150-175)       7\n",
       "[0-25)          4\n",
       "[175-200)       1\n",
       "Name: weight, dtype: int64"
      ]
     },
     "execution_count": 905,
     "metadata": {},
     "output_type": "execute_result"
    }
   ],
   "source": [
    "df.weight.value_counts()"
   ]
  },
  {
   "cell_type": "markdown",
   "id": "ba94bdcd",
   "metadata": {},
   "source": [
    "## Drop the row of unknown gender (it is just one row)"
   ]
  },
  {
   "cell_type": "code",
   "execution_count": 842,
   "id": "8cfc330c",
   "metadata": {
    "code_folding": []
   },
   "outputs": [],
   "source": [
    "# Drop the rows where the gender is 'Unknown/Invalid'\n",
    "df = df[df['gender'] != 'Unknown/Invalid']"
   ]
  },
  {
   "cell_type": "markdown",
   "id": "9705e1a0",
   "metadata": {},
   "source": [
    "## Drop the rows where race==\"?\"  and uniformize all the values (ex: WHITE and White)"
   ]
  },
  {
   "cell_type": "code",
   "execution_count": 843,
   "id": "0ce69145",
   "metadata": {},
   "outputs": [],
   "source": [
    "# Replace the different variations of each race with a single consistent value\n",
    "df = df.copy()\n",
    "df['race'] = df['race'].replace(['WHITE', 'European', 'Caucasian', 'EURO', 'White'], 'Caucasian')\n",
    "df['race'] = df['race'].replace(['AfricanAmerican', 'African American', 'Afro American', 'Black', 'AFRICANAMERICAN'], 'AfricanAmerican')\n",
    "df['race'] = df['race'].replace(['Hispanic', 'Latino'], 'Hispanic')"
   ]
  },
  {
   "cell_type": "code",
   "execution_count": 844,
   "id": "e50a1f11",
   "metadata": {},
   "outputs": [],
   "source": [
    "# Drop rows where race==\"?\"\n",
    "df = df.drop(df.loc[df['race'] == '?'].index)"
   ]
  },
  {
   "cell_type": "code",
   "execution_count": 845,
   "id": "30ebcd22",
   "metadata": {},
   "outputs": [
    {
     "data": {
      "text/plain": [
       "array(['Caucasian', 'AfricanAmerican', 'Asian', 'Hispanic', 'Other'],\n",
       "      dtype=object)"
      ]
     },
     "execution_count": 845,
     "metadata": {},
     "output_type": "execute_result"
    }
   ],
   "source": [
    "df.race.unique()"
   ]
  },
  {
   "cell_type": "markdown",
   "id": "c9f47659",
   "metadata": {},
   "source": [
    "## admission_type_code, discharge_disposition_code, admission_source_code --> should be category"
   ]
  },
  {
   "cell_type": "code",
   "execution_count": 846,
   "id": "1d8d8e9d",
   "metadata": {},
   "outputs": [],
   "source": [
    "# Change the data type of the columns to categories\n",
    "df['admission_type_code'] = df['admission_type_code'].astype('category')\n",
    "df['discharge_disposition_code'] = df['discharge_disposition_code'].astype('category')\n",
    "df['admission_source_code'] = df['admission_source_code'].astype('category')\n"
   ]
  },
  {
   "cell_type": "code",
   "execution_count": 847,
   "id": "90a84fb8",
   "metadata": {},
   "outputs": [],
   "source": [
    "# drop the null rows \n",
    "df.dropna(subset=['admission_type_code', 'discharge_disposition_code', 'admission_source_code'], inplace=True)"
   ]
  },
  {
   "cell_type": "code",
   "execution_count": 848,
   "id": "a2ecf15e",
   "metadata": {},
   "outputs": [],
   "source": [
    "## There are code that meams the same in admission_type_code, discharge_disposition_code, admission_source_code\n",
    "## They all means null or NA\n",
    "\n",
    "# df['admission_type_code'] = df['admission_type_code'].replace({6: 5, 8: 5})\n",
    "# df['discharge_disposition_code'] = df['discharge_disposition_code'].replace({25: 18, 26: 18})\n",
    "# df['admission_source_code'] = df['admission_source_code'].replace({20: 17, 21: 17})"
   ]
  },
  {
   "cell_type": "markdown",
   "id": "2dbc9b9b",
   "metadata": {},
   "source": [
    "##  max_glu_serum column --> need to change NONE or None and NORM or Norm"
   ]
  },
  {
   "cell_type": "code",
   "execution_count": 849,
   "id": "9574284e",
   "metadata": {},
   "outputs": [
    {
     "data": {
      "text/plain": [
       "array(['NONE', 'None', '>300', 'NORM', 'Norm', '>200'], dtype=object)"
      ]
     },
     "execution_count": 849,
     "metadata": {},
     "output_type": "execute_result"
    }
   ],
   "source": [
    " df.max_glu_serum.unique()"
   ]
  },
  {
   "cell_type": "code",
   "execution_count": 850,
   "id": "db0b6be4",
   "metadata": {},
   "outputs": [],
   "source": [
    "# replace values\n",
    "df['max_glu_serum'] = df['max_glu_serum'].replace({'NONE': 'None', 'NORM': 'Norm'})"
   ]
  },
  {
   "cell_type": "code",
   "execution_count": 851,
   "id": "a632cf12",
   "metadata": {},
   "outputs": [
    {
     "data": {
      "text/plain": [
       "array(['None', '>300', 'Norm', '>200'], dtype=object)"
      ]
     },
     "execution_count": 851,
     "metadata": {},
     "output_type": "execute_result"
    }
   ],
   "source": [
    " df.max_glu_serum.unique()"
   ]
  },
  {
   "cell_type": "markdown",
   "id": "7707370f",
   "metadata": {},
   "source": [
    "## diag_1, diag_2, diag_3 columns"
   ]
  },
  {
   "cell_type": "markdown",
   "id": "deed01c1",
   "metadata": {},
   "source": [
    "### For diag_1"
   ]
  },
  {
   "cell_type": "code",
   "execution_count": 852,
   "id": "6e81dcc4",
   "metadata": {},
   "outputs": [],
   "source": [
    "df['diag_1'] = df['diag_1'].astype(str)"
   ]
  },
  {
   "cell_type": "code",
   "execution_count": 853,
   "id": "b383da9a",
   "metadata": {},
   "outputs": [],
   "source": [
    "# Apply the function to the 'diag_1' column\n",
    "df['diag_1'] = df['diag_1'].apply(lambda x: float(x) if x[0].isdigit() else x)"
   ]
  },
  {
   "cell_type": "code",
   "execution_count": 854,
   "id": "d4a2a1fe",
   "metadata": {},
   "outputs": [],
   "source": [
    "# define dictionary with disease categories\n",
    "disease_dict = {\n",
    "    range(1, 140): 'Infectious and parasitic diseases',\n",
    "    range(140, 240): 'Neoplasms',\n",
    "    range(240, 280): 'Endocrine, nutritional and metabolic diseases, and immunity disorders',\n",
    "    range(280, 290): 'Diseases of the blood and blood-forming organs',\n",
    "    range(290, 320): 'Mental disorders',\n",
    "    range(320, 390): 'Diseases of the nervous system and sense organs',\n",
    "    range(390, 460): 'Diseases of the circulatory system',\n",
    "    range(460, 520): 'Diseases of the respiratory system',\n",
    "    range(520, 580): 'Diseases of the digestive system',\n",
    "    range(580, 630): 'Diseases of the genitourinary system',\n",
    "    range(630, 680): 'Complications of pregnancy, childbirth, and the puerperium',\n",
    "    range(680, 710): 'Diseases of the skin and subcutaneous tissue',\n",
    "    range(710, 740): 'Diseases of the musculoskeletal system and connective tissue',\n",
    "    range(740, 760): 'Congenital anomalies',\n",
    "    range(760, 780): 'Certain conditions originating in the perinatal period',\n",
    "    range(780, 800): 'Symptoms, signs, and ill-defined conditions',\n",
    "    range(800, 1000): 'Injury and poisoning'\n",
    "}"
   ]
  },
  {
   "cell_type": "code",
   "execution_count": 855,
   "id": "f87e336e",
   "metadata": {},
   "outputs": [],
   "source": [
    "df['diag_1'] = df['diag_1'].apply(lambda x: int(x) if isinstance(x, float) else x)"
   ]
  },
  {
   "cell_type": "code",
   "execution_count": 856,
   "id": "320aca25",
   "metadata": {},
   "outputs": [],
   "source": [
    "# map integer codes to disease categories using dictionary with ranges\n",
    "df['diag_1'] = df['diag_1'].apply(lambda x: next((v for k, v in disease_dict.items() if x in k), x))"
   ]
  },
  {
   "cell_type": "code",
   "execution_count": 857,
   "id": "f29a9e77",
   "metadata": {},
   "outputs": [],
   "source": [
    "# define a function to apply to the column\n",
    "def update_value(val):\n",
    "    if val.startswith('V') or val.startswith('E'):\n",
    "        return 'Supplementary Classification'\n",
    "    else:\n",
    "        return val\n"
   ]
  },
  {
   "cell_type": "code",
   "execution_count": 858,
   "id": "3cec8695",
   "metadata": {},
   "outputs": [],
   "source": [
    "df['diag_1'] = df['diag_1'].apply(update_value)"
   ]
  },
  {
   "cell_type": "code",
   "execution_count": 859,
   "id": "64a3d6d2",
   "metadata": {},
   "outputs": [
    {
     "data": {
      "text/plain": [
       "array(['Neoplasms', 'Diseases of the genitourinary system',\n",
       "       'Diseases of the respiratory system',\n",
       "       'Symptoms, signs, and ill-defined conditions',\n",
       "       'Diseases of the musculoskeletal system and connective tissue',\n",
       "       'Diseases of the circulatory system',\n",
       "       'Diseases of the digestive system', 'Injury and poisoning',\n",
       "       'Supplementary Classification', '?',\n",
       "       'Infectious and parasitic diseases', 'Mental disorders',\n",
       "       'Diseases of the nervous system and sense organs',\n",
       "       'Diseases of the skin and subcutaneous tissue',\n",
       "       'Diseases of the blood and blood-forming organs',\n",
       "       'Complications of pregnancy, childbirth, and the puerperium',\n",
       "       'Congenital anomalies'], dtype=object)"
      ]
     },
     "execution_count": 859,
     "metadata": {},
     "output_type": "execute_result"
    }
   ],
   "source": [
    "df.diag_1.unique()"
   ]
  },
  {
   "cell_type": "markdown",
   "id": "9b44d7a1",
   "metadata": {},
   "source": [
    "### For diag_2"
   ]
  },
  {
   "cell_type": "code",
   "execution_count": 860,
   "id": "6d2215bd",
   "metadata": {},
   "outputs": [],
   "source": [
    "df['diag_2'] = df['diag_2'].astype(str)"
   ]
  },
  {
   "cell_type": "code",
   "execution_count": 861,
   "id": "72972f32",
   "metadata": {},
   "outputs": [],
   "source": [
    "# Apply the function to the 'diag_1' column\n",
    "df['diag_2'] = df['diag_2'].apply(lambda x: float(x) if x[0].isdigit() else x)"
   ]
  },
  {
   "cell_type": "code",
   "execution_count": 862,
   "id": "ff001057",
   "metadata": {},
   "outputs": [],
   "source": [
    "df['diag_2'] = df['diag_2'].apply(lambda x: int(x) if isinstance(x, float) else x)"
   ]
  },
  {
   "cell_type": "code",
   "execution_count": 863,
   "id": "0b9052c1",
   "metadata": {},
   "outputs": [],
   "source": [
    "# map integer codes to disease categories using dictionary with ranges\n",
    "df['diag_2'] = df['diag_2'].apply(lambda x: next((v for k, v in disease_dict.items() if x in k), x))"
   ]
  },
  {
   "cell_type": "code",
   "execution_count": 864,
   "id": "1763d4f2",
   "metadata": {},
   "outputs": [],
   "source": [
    "df['diag_2'] = df['diag_2'].apply(update_value)"
   ]
  },
  {
   "cell_type": "code",
   "execution_count": 865,
   "id": "afde2115",
   "metadata": {},
   "outputs": [
    {
     "data": {
      "text/plain": [
       "array(['Symptoms, signs, and ill-defined conditions',\n",
       "       'Supplementary Classification', 'Injury and poisoning',\n",
       "       'Diseases of the genitourinary system',\n",
       "       'Diseases of the circulatory system',\n",
       "       'Diseases of the respiratory system',\n",
       "       'Diseases of the blood and blood-forming organs',\n",
       "       'Infectious and parasitic diseases', 'Neoplasms',\n",
       "       'Diseases of the skin and subcutaneous tissue',\n",
       "       'Diseases of the musculoskeletal system and connective tissue',\n",
       "       '?', 'Diseases of the digestive system',\n",
       "       'Diseases of the nervous system and sense organs',\n",
       "       'Mental disorders', 'nan',\n",
       "       'Complications of pregnancy, childbirth, and the puerperium',\n",
       "       'Congenital anomalies'], dtype=object)"
      ]
     },
     "execution_count": 865,
     "metadata": {},
     "output_type": "execute_result"
    }
   ],
   "source": [
    "df.diag_2.unique()"
   ]
  },
  {
   "cell_type": "markdown",
   "id": "08e2cb8f",
   "metadata": {},
   "source": [
    "### For diag_3"
   ]
  },
  {
   "cell_type": "code",
   "execution_count": 866,
   "id": "4fd3c744",
   "metadata": {},
   "outputs": [],
   "source": [
    "df['diag_3'] = df['diag_3'].astype(str)"
   ]
  },
  {
   "cell_type": "code",
   "execution_count": 867,
   "id": "e8977d38",
   "metadata": {},
   "outputs": [],
   "source": [
    "# Apply the function to the 'diag_1' column\n",
    "df['diag_3'] = df['diag_3'].apply(lambda x: float(x) if x[0].isdigit() else x)"
   ]
  },
  {
   "cell_type": "code",
   "execution_count": 868,
   "id": "e660e1e1",
   "metadata": {},
   "outputs": [],
   "source": [
    "df['diag_3'] = df['diag_3'].apply(lambda x: int(x) if isinstance(x, float) else x)"
   ]
  },
  {
   "cell_type": "code",
   "execution_count": 869,
   "id": "39aa5e0d",
   "metadata": {},
   "outputs": [],
   "source": [
    "# map integer codes to disease categories using dictionary with ranges\n",
    "df['diag_3'] = df['diag_3'].apply(lambda x: next((v for k, v in disease_dict.items() if x in k), x))"
   ]
  },
  {
   "cell_type": "code",
   "execution_count": 870,
   "id": "b48b9fdb",
   "metadata": {},
   "outputs": [],
   "source": [
    "df['diag_3'] = df['diag_3'].apply(update_value)"
   ]
  },
  {
   "cell_type": "code",
   "execution_count": 871,
   "id": "5dedfca0",
   "metadata": {},
   "outputs": [
    {
     "data": {
      "text/plain": [
       "array(['Diseases of the genitourinary system',\n",
       "       'Diseases of the circulatory system',\n",
       "       'Supplementary Classification',\n",
       "       'Diseases of the respiratory system',\n",
       "       'Diseases of the skin and subcutaneous tissue',\n",
       "       'Infectious and parasitic diseases',\n",
       "       'Symptoms, signs, and ill-defined conditions', 'Mental disorders',\n",
       "       '?', 'Diseases of the digestive system',\n",
       "       'Diseases of the musculoskeletal system and connective tissue',\n",
       "       'Diseases of the blood and blood-forming organs',\n",
       "       'Injury and poisoning', 'Neoplasms',\n",
       "       'Diseases of the nervous system and sense organs',\n",
       "       'Complications of pregnancy, childbirth, and the puerperium',\n",
       "       'Congenital anomalies'], dtype=object)"
      ]
     },
     "execution_count": 871,
     "metadata": {},
     "output_type": "execute_result"
    }
   ],
   "source": [
    "df.diag_3.unique()"
   ]
  },
  {
   "cell_type": "markdown",
   "id": "9d6ee7cd",
   "metadata": {},
   "source": [
    "### To drop rows of diag_ with \"?\" or \"nan\""
   ]
  },
  {
   "cell_type": "code",
   "execution_count": 872,
   "id": "63ea76a6",
   "metadata": {},
   "outputs": [],
   "source": [
    "# remove rows where the value of diag_1 is \"?\" or \"nan\"\n",
    "df = df[(df['diag_1'] != '?') & (df['diag_1'] != 'nan')]"
   ]
  },
  {
   "cell_type": "code",
   "execution_count": 873,
   "id": "fdcf6b30",
   "metadata": {},
   "outputs": [],
   "source": [
    "# remove rows where the value of diag_2 is \"?\" or \"nan\"\n",
    "df = df[(df['diag_2'] != '?') & (df['diag_2'] != 'nan')]"
   ]
  },
  {
   "cell_type": "code",
   "execution_count": 874,
   "id": "a76837be",
   "metadata": {},
   "outputs": [],
   "source": [
    "# remove rows where the value of diag_3 is \"?\" or \"nan\"\n",
    "df = df[(df['diag_3'] != '?') & (df['diag_3'] != 'nan')]"
   ]
  },
  {
   "cell_type": "markdown",
   "id": "484859c4",
   "metadata": {},
   "source": [
    "# Pipeline"
   ]
  },
  {
   "cell_type": "code",
   "execution_count": 875,
   "id": "d3fdc251",
   "metadata": {},
   "outputs": [
    {
     "data": {
      "text/plain": [
       "Index(['race', 'gender', 'age', 'admission_type_code',\n",
       "       'discharge_disposition_code', 'admission_source_code',\n",
       "       'time_in_hospital', 'payer_code', 'medical_specialty', 'has_prosthesis',\n",
       "       'complete_vaccination_status', 'num_lab_procedures', 'num_procedures',\n",
       "       'num_medications', 'number_outpatient', 'number_emergency',\n",
       "       'number_inpatient', 'diag_1', 'diag_2', 'diag_3', 'number_diagnoses',\n",
       "       'blood_type', 'hemoglobin_level', 'blood_transfusion', 'max_glu_serum',\n",
       "       'A1Cresult', 'diuretics', 'insulin', 'change', 'diabetesMed'],\n",
       "      dtype='object')"
      ]
     },
     "execution_count": 875,
     "metadata": {},
     "output_type": "execute_result"
    }
   ],
   "source": [
    "## All columns (execpt admission_id and patient_id)\n",
    "all_columns = df.drop(columns=\"readmitted\").columns\n",
    "all_columns"
   ]
  },
  {
   "cell_type": "code",
   "execution_count": 877,
   "id": "5487eb74",
   "metadata": {},
   "outputs": [],
   "source": [
    "# Define the features\n",
    "numerical_features = [\"time_in_hospital\", \"num_lab_procedures\", \"num_procedures\",\n",
    "                     \"num_medications\", \"number_outpatient\", \"number_emergency\", \"number_inpatient\",\n",
    "                     \"number_diagnoses\", \"hemoglobin_level\",\n",
    "                     ]\n",
    "\n",
    "categorical_features = [\"admission_type_code\", \"discharge_disposition_code\", \"admission_source_code\", \"race\", \n",
    "                        \"gender\", \"age\", \"payer_code\", \"medical_specialty\", \"complete_vaccination_status\",\n",
    "                       \"diag_1\", \"diag_2\", \"diag_3\", \"blood_type\", \"max_glu_serum\", \"A1Cresult\",\n",
    "                       \"diuretics\", \"insulin\", \"change\", \"diabetesMed\"]\n",
    "\n",
    "boolean_features = [\"has_prosthesis\", \"blood_transfusion\"]\n",
    "\n",
    "\n",
    "#Define the transformers for the numerical and categorical features\n",
    "numeric_transformer = Pipeline(steps=[\n",
    "    ('imputer', SimpleImputer(strategy='median')),\n",
    "    ('scaler',  StandardScaler())])\n",
    "categorical_transformer = Pipeline(steps=[\n",
    "    ('onehot', OneHotEncoder(handle_unknown='ignore'))])\n",
    "\n",
    "boolean_transformer = Pipeline(steps=[\n",
    "    ('label', LabelEncoder()),\n",
    "    ('transform', FunctionTransformer(lambda x: x.reshape(-1, 1))),\n",
    "    ('label_onehot', OneHotEncoder(handle_unknown='ignore'))])\n",
    "\n",
    "# Define the column transformer to apply the transformers to the appropriate columns\n",
    "preprocessor = ColumnTransformer(\n",
    "    transformers=[\n",
    "        ('num', numeric_transformer, numerical_features),\n",
    "        ('cat', categorical_transformer, categorical_features)])\n",
    "\n",
    "# Define the final pipeline with the column transformer and the random forest classifier\n",
    "pipeline = Pipeline(steps=[\n",
    "    ('preprocessor', preprocessor),\n",
    "    ('classifier', RandomForestClassifier(n_estimators=100, max_depth=100, min_samples_leaf=0.01, class_weight=\"balanced\", random_state=42, n_jobs=-1))])\n"
   ]
  },
  {
   "cell_type": "markdown",
   "id": "c956fbeb",
   "metadata": {},
   "source": [
    "# Train test split"
   ]
  },
  {
   "cell_type": "code",
   "execution_count": 878,
   "id": "20136183",
   "metadata": {},
   "outputs": [],
   "source": [
    "target = \"readmitted\"\n",
    "\n",
    "X = df.drop(columns=\"readmitted\")\n",
    "y = df[target]\n",
    "\n",
    "# Split the data into training and testing sets\n",
    "X_train, X_test, y_train, y_test = train_test_split(X, y, test_size=0.2, random_state=42, stratify=df['readmitted'])\n"
   ]
  },
  {
   "cell_type": "markdown",
   "id": "876eaa77",
   "metadata": {},
   "source": [
    "# Fit the pipeline"
   ]
  },
  {
   "cell_type": "code",
   "execution_count": 879,
   "id": "aecb1ebc",
   "metadata": {},
   "outputs": [
    {
     "data": {
      "text/plain": [
       "Pipeline(steps=[('preprocessor',\n",
       "                 ColumnTransformer(transformers=[('num',\n",
       "                                                  Pipeline(steps=[('imputer',\n",
       "                                                                   SimpleImputer(strategy='median')),\n",
       "                                                                  ('scaler',\n",
       "                                                                   StandardScaler())]),\n",
       "                                                  ['time_in_hospital',\n",
       "                                                   'num_lab_procedures',\n",
       "                                                   'num_procedures',\n",
       "                                                   'num_medications',\n",
       "                                                   'number_outpatient',\n",
       "                                                   'number_emergency',\n",
       "                                                   'number_inpatient',\n",
       "                                                   'number_diagnoses',\n",
       "                                                   'hemoglobin_level']),\n",
       "                                                 ('cat',\n",
       "                                                  Pipelin...\n",
       "                                                   'admission_source_code',\n",
       "                                                   'race', 'gender', 'age',\n",
       "                                                   'payer_code',\n",
       "                                                   'medical_specialty',\n",
       "                                                   'complete_vaccination_status',\n",
       "                                                   'diag_1', 'diag_2', 'diag_3',\n",
       "                                                   'blood_type',\n",
       "                                                   'max_glu_serum', 'A1Cresult',\n",
       "                                                   'diuretics', 'insulin',\n",
       "                                                   'change',\n",
       "                                                   'diabetesMed'])])),\n",
       "                ('classifier',\n",
       "                 RandomForestClassifier(class_weight='balanced', max_depth=100,\n",
       "                                        min_samples_leaf=0.01, n_jobs=-1,\n",
       "                                        random_state=42))])"
      ]
     },
     "execution_count": 879,
     "metadata": {},
     "output_type": "execute_result"
    }
   ],
   "source": [
    "pipeline.fit(X_train, y_train)"
   ]
  },
  {
   "cell_type": "markdown",
   "id": "4b43f5e1",
   "metadata": {},
   "source": [
    "# Serialize"
   ]
  },
  {
   "cell_type": "code",
   "execution_count": 241,
   "id": "825f9a17",
   "metadata": {},
   "outputs": [],
   "source": [
    "TMP_DIR = \"/tmp\""
   ]
  },
  {
   "cell_type": "code",
   "execution_count": 242,
   "id": "73fe0eff",
   "metadata": {},
   "outputs": [],
   "source": [
    "# Serialize the column names from the X DataFrame into a file named columns.json\n",
    "# YOUR CODE HERE\n",
    "with open(os.path.join(TMP_DIR, \"columns.json\"), 'w') as fh:\n",
    "    json.dump(X.columns.tolist(), fh)"
   ]
  },
  {
   "cell_type": "code",
   "execution_count": 243,
   "id": "57ae9498",
   "metadata": {},
   "outputs": [],
   "source": [
    "# Pickle the dtypes of the columns from the X DataFrame into a file named dtypes.pickle\n",
    "# YOUR CODE HERE\n",
    "with open(os.path.join(TMP_DIR, \"dtypes.pickle\"), 'wb') as fh:\n",
    "    pickle.dump(X.dtypes, fh)"
   ]
  },
  {
   "cell_type": "code",
   "execution_count": 244,
   "id": "d24c0331",
   "metadata": {},
   "outputs": [],
   "source": [
    "# Pickle the fitted pipeline into a file named pipeline.pickle\n",
    "# YOUR CODE HERE\n",
    "with open(os.path.join(TMP_DIR, 'pipeline.pickle'), 'wb') as f:\n",
    "    joblib.dump(pipeline, f)"
   ]
  },
  {
   "cell_type": "markdown",
   "id": "847d27ac",
   "metadata": {},
   "source": [
    "# Predict"
   ]
  },
  {
   "cell_type": "code",
   "execution_count": 880,
   "id": "be4ef9d6",
   "metadata": {},
   "outputs": [
    {
     "name": "stdout",
     "output_type": "stream",
     "text": [
      "['No' 'Yes']\n"
     ]
    }
   ],
   "source": [
    "rf_model = pipeline.named_steps['classifier']\n",
    "print(rf_model.classes_)"
   ]
  },
  {
   "cell_type": "code",
   "execution_count": 881,
   "id": "4cb8d0b4",
   "metadata": {},
   "outputs": [],
   "source": [
    "preds = pipeline.predict(X_test)\n",
    "preds_proba = pipeline.predict_proba(X_test)[:, 1]\n",
    "\n",
    "precision = precision_score(y_test, preds, labels=[\"No\", \"Yes\"], pos_label=\"Yes\")\n",
    "recall = recall_score(y_test, preds, labels=[\"No\", \"Yes\"], pos_label=\"Yes\")"
   ]
  },
  {
   "cell_type": "code",
   "execution_count": 882,
   "id": "14117483",
   "metadata": {},
   "outputs": [],
   "source": [
    "precision, recall, thresholds = precision_recall_curve(y_test, preds_proba, pos_label=\"Yes\")"
   ]
  },
  {
   "cell_type": "code",
   "execution_count": 883,
   "id": "dd5ac3f9",
   "metadata": {},
   "outputs": [],
   "source": [
    "precision = precision[:-1]\n",
    "recall = recall[:-1]"
   ]
  },
  {
   "cell_type": "code",
   "execution_count": 884,
   "id": "7751f53b",
   "metadata": {},
   "outputs": [
    {
     "data": {
      "image/png": "[encoded data removed]",
      "text/plain": [
       "<Figure size 640x480 with 2 Axes>"
      ]
     },
     "metadata": {},
     "output_type": "display_data"
    }
   ],
   "source": [
    "fig=plt.figure()\n",
    "ax1 = plt.subplot(211)\n",
    "ax2 = plt.subplot(212)\n",
    "ax1.hlines(y=0.5,xmin=0.4, xmax=0.6, colors='red')\n",
    "ax1.plot(thresholds,precision)\n",
    "ax2.plot(thresholds,recall)\n",
    "ax1.get_shared_x_axes().join(ax1, ax2)\n",
    "ax1.set_xticklabels([])\n",
    "plt.xlabel('Threshold')\n",
    "ax1.set_title('Precision')\n",
    "ax2.set_title('Recall')\n",
    "plt.show()"
   ]
  },
  {
   "cell_type": "code",
   "execution_count": 887,
   "id": "d63be79e",
   "metadata": {},
   "outputs": [
    {
     "name": "stdout",
     "output_type": "stream",
     "text": [
      "193\n"
     ]
    }
   ],
   "source": [
    "min_index = [i for i, prec in enumerate(precision) if prec >= 0.1][0]\n",
    "print(min_index)"
   ]
  },
  {
   "cell_type": "code",
   "execution_count": 888,
   "id": "4471572a",
   "metadata": {},
   "outputs": [
    {
     "data": {
      "text/plain": [
       "0.39361168803635216"
      ]
     },
     "execution_count": 888,
     "metadata": {},
     "output_type": "execute_result"
    }
   ],
   "source": [
    "thresholds[min_index]"
   ]
  },
  {
   "cell_type": "code",
   "execution_count": 889,
   "id": "9c34ee38",
   "metadata": {},
   "outputs": [
    {
     "data": {
      "text/plain": [
       "0.1"
      ]
     },
     "execution_count": 889,
     "metadata": {},
     "output_type": "execute_result"
    }
   ],
   "source": [
    "precision[min_index]"
   ]
  },
  {
   "cell_type": "code",
   "execution_count": 890,
   "id": "0fbc92d7",
   "metadata": {},
   "outputs": [
    {
     "data": {
      "text/plain": [
       "0.954248366013072"
      ]
     },
     "execution_count": 890,
     "metadata": {},
     "output_type": "execute_result"
    }
   ],
   "source": [
    "recall[min_index]"
   ]
  },
  {
   "cell_type": "code",
   "execution_count": 891,
   "id": "740a10a2",
   "metadata": {
    "scrolled": true
   },
   "outputs": [
    {
     "data": {
      "text/plain": [
       "0.22945736434108527"
      ]
     },
     "execution_count": 891,
     "metadata": {},
     "output_type": "execute_result"
    }
   ],
   "source": [
    "f1_score(y_test, preds, labels=[\"No\", \"Yes\"], pos_label=\"Yes\")\n"
   ]
  },
  {
   "cell_type": "code",
   "execution_count": 892,
   "id": "a0cc13eb",
   "metadata": {},
   "outputs": [],
   "source": [
    "rf_model = pipeline.named_steps['classifier']\n",
    "importances = rf_model.feature_importances_"
   ]
  },
  {
   "cell_type": "code",
   "execution_count": 893,
   "id": "3639f7a9",
   "metadata": {},
   "outputs": [
    {
     "name": "stdout",
     "output_type": "stream",
     "text": [
      "Feature time_in_hospital: 0.11658418034173305\n",
      "Feature admission_type_code: 0.07179053223363381\n",
      "Feature gender: 0.06939625575995187\n",
      "Feature race: 0.06491717890392744\n",
      "Feature diag_1: 0.04495576730413445\n",
      "Feature medical_specialty: 0.04415882117826788\n",
      "Feature payer_code: 0.035064030743467194\n",
      "Feature age: 0.024891336545678183\n",
      "Feature diag_3: 0.01865724586913809\n",
      "Feature diuretics: 0.01008701063281733\n",
      "Feature discharge_disposition_code: 0.0088102931291205\n",
      "Feature has_prosthesis: 0.00827765369722494\n",
      "Feature complete_vaccination_status: 0.007715217267661637\n",
      "Feature num_lab_procedures: 0.004482511637694038\n",
      "Feature admission_source_code: 0.004288991606025249\n",
      "Feature hemoglobin_level: 0.003808001222574858\n",
      "Feature diag_2: 0.0030229960941761413\n",
      "Feature number_outpatient: 0.0019019856705755093\n",
      "Feature num_medications: 0.0018571080894083086\n",
      "Feature num_procedures: 0.0\n",
      "Feature number_emergency: 0.0\n",
      "Feature number_inpatient: 0.0\n",
      "Feature number_diagnoses: 0.0\n",
      "Feature blood_type: 0.0\n",
      "Feature blood_transfusion: 0.0\n",
      "Feature max_glu_serum: 0.0\n",
      "Feature A1Cresult: 0.0\n",
      "Feature insulin: 0.0\n",
      "Feature change: 0.0\n",
      "Feature diabetesMed: 0.0\n",
      "Top 20 Features: ['time_in_hospital', 'admission_type_code', 'gender', 'race', 'diag_1', 'medical_specialty', 'payer_code', 'age', 'diag_3', 'diuretics', 'discharge_disposition_code', 'has_prosthesis', 'complete_vaccination_status', 'num_lab_procedures', 'admission_source_code', 'hemoglobin_level', 'diag_2', 'number_outpatient', 'num_medications', 'num_procedures']\n"
     ]
    },
    {
     "data": {
      "image/png": "[encoded data removed]",
      "text/plain": [
       "<Figure size 640x480 with 1 Axes>"
      ]
     },
     "metadata": {},
     "output_type": "display_data"
    }
   ],
   "source": [
    "importances = []\n",
    "for feature, importance in zip(X.columns, rf_model.feature_importances_):\n",
    "    importances.append((feature, importance))\n",
    "\n",
    "# Sort the importances in descending order\n",
    "importances = sorted(importances, key=lambda x: x[1], reverse=True)\n",
    "\n",
    "# Print the feature importances in order\n",
    "for feature, importance in importances:\n",
    "    print(f\"Feature {feature}: {importance}\")\n",
    "\n",
    "# Get the names of the top 10 features\n",
    "top_20_features = [importance[0] for importance in importances[:20]]\n",
    "print(\"Top 20 Features:\", top_20_features)\n",
    "\n",
    "# Sort the feature importances in descending order\n",
    "sorted_importances = sorted(importances, key=lambda x: x[1], reverse=True)\n",
    "sorted_indices = [X.columns.get_loc(feature) for feature, importance in sorted_importances]\n",
    "\n",
    "# Plot the top 10 feature importances\n",
    "plt.bar(range(20), [importance for feature, importance in sorted_importances][:20])\n",
    "plt.xticks(range(20), [feature for feature, importance in sorted_importances][:20], rotation=90)\n",
    "plt.xlabel(\"Feature\")\n",
    "plt.ylabel(\"Importance\")\n",
    "plt.show()\n"
   ]
  },
  {
   "cell_type": "code",
   "execution_count": null,
   "id": "9f4594dd",
   "metadata": {},
   "outputs": [],
   "source": []
  }
 ],
 "metadata": {
  "hide_input": false,
  "kernelspec": {
   "display_name": "Python 3 (ipykernel)",
   "language": "python",
   "name": "python3"
  },
  "language_info": {
   "codemirror_mode": {
    "name": "ipython",
    "version": 3
   },
   "file_extension": ".py",
   "mimetype": "text/x-python",
   "name": "python",
   "nbconvert_exporter": "python",
   "pygments_lexer": "ipython3",
   "version": "3.8.15"
  },
  "nbTranslate": {
   "displayLangs": [
    "*"
   ],
   "hotkey": "alt-t",
   "langInMainMenu": true,
   "sourceLang": "en",
   "targetLang": "fr",
   "useGoogleTranslate": true
  },
  "toc": {
   "base_numbering": 1,
   "nav_menu": {},
   "number_sections": true,
   "sideBar": true,
   "skip_h1_title": false,
   "title_cell": "Table of Contents",
   "title_sidebar": "Contents",
   "toc_cell": false,
   "toc_position": {},
   "toc_section_display": true,
   "toc_window_display": false
  },
  "varInspector": {
   "cols": {
    "lenName": 16,
    "lenType": 16,
    "lenVar": 40
   },
   "kernels_config": {
    "python": {
     "delete_cmd_postfix": "",
     "delete_cmd_prefix": "del ",
     "library": "var_list.py",
     "varRefreshCmd": "print(var_dic_list())"
    },
    "r": {
     "delete_cmd_postfix": ") ",
     "delete_cmd_prefix": "rm(",
     "library": "var_list.r",
     "varRefreshCmd": "cat(var_dic_list()) "
    }
   },
   "types_to_exclude": [
    "module",
    "function",
    "builtin_function_or_method",
    "instance",
    "_Feature"
   ],
   "window_display": false
  }
 },
 "nbformat": 4,
 "nbformat_minor": 5
}
